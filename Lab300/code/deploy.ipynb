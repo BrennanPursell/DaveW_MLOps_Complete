{
 "cells": [
  {
   "cell_type": "markdown",
   "metadata": {},
   "source": [
    "# Deploy Model"
   ]
  },
  {
   "cell_type": "markdown",
   "metadata": {},
   "source": [
    "In this section we will submit data to the [Azure Machine Learning Model Endpoint](https://docs.microsoft.com/en-us/azure/machine-learning/service/how-to-deploy-and-where) we have created in the Azure Portal - using Python to call a REST API\n",
    "\n",
    "We will be following a simlilar process to the documentation here:[How to Consume a Web Service](https://docs.microsoft.com/en-us/azure/machine-learning/service/how-to-consume-web-service)"
   ]
  },
  {
   "cell_type": "markdown",
   "metadata": {},
   "source": [
    "## Connect to Azure ML Service "
   ]
  },
  {
   "cell_type": "markdown",
   "metadata": {},
   "source": [
    "We [connect to the Azure Machine Learning Service](https://docs.microsoft.com/en-us/azure/machine-learning/service/tutorial-1st-experiment-sdk-setup) in order to get details about calling the web service we have created\n",
    "\n"
   ]
  },
  {
   "cell_type": "code",
   "execution_count": null,
   "metadata": {},
   "outputs": [],
   "source": [
    "from azureml.core import Workspace\n",
    "ws = Workspace.from_config()\n",
    "print(ws)"
   ]
  },
  {
   "cell_type": "markdown",
   "metadata": {},
   "source": [
    "## Find Web Service by Name and get Connection Details "
   ]
  },
  {
   "cell_type": "code",
   "execution_count": 13,
   "metadata": {},
   "outputs": [
    {
     "name": "stdout",
     "output_type": "stream",
     "text": [
      "Score URI: http://cdf1489e-a4c7-4cae-b4f8-5e3d29bde43d.eastus.azurecontainer.io/score\n",
      "Swagger URI: http://cdf1489e-a4c7-4cae-b4f8-5e3d29bde43d.eastus.azurecontainer.io/swagger.json\n"
     ]
    }
   ],
   "source": [
    "from azureml.core import Webservice\n",
    "# change me if needed\n",
    "service = Webservice(workspace=ws, name='support-ticket-duration')\n",
    "print(\"Score URI: \" + str(service.scoring_uri))\n",
    "print(\"Swagger URI: \" + str(service.swagger_uri))"
   ]
  },
  {
   "cell_type": "code",
   "execution_count": null,
   "metadata": {},
   "outputs": [],
   "source": [
    "# this may fail if you didn't enable auth.  If that's the case, disregard the error\n",
    "primary, secondary = ['','']\n",
    "primary, secondary = service.get_keys()\n",
    "print(primary)"
   ]
  },
  {
   "cell_type": "code",
   "execution_count": null,
   "metadata": {},
   "outputs": [],
   "source": [
    "primary"
   ]
  },
  {
   "cell_type": "markdown",
   "metadata": {},
   "source": [
    "## Data Input to REST API Schema "
   ]
  },
  {
   "cell_type": "markdown",
   "metadata": {},
   "source": [
    "Now we need to understand the schema of the data to be input into the REST call.\n",
    "\n",
    "You can get this sample input information from the auto-generated scoring script that was created in the Azure Portal"
   ]
  },
  {
   "cell_type": "markdown",
   "metadata": {},
   "source": [
    "## Call Web Service with Data "
   ]
  },
  {
   "cell_type": "markdown",
   "metadata": {},
   "source": [
    "Finally we use packages in Python to call a REST Request using the scoring URL and the data to evaluate\n",
    "\n",
    "This can be run in any language, check out the [documentation here](https://docs.microsoft.com/en-us/azure/machine-learning/service/how-to-consume-web-service) for more language samples. We have chosen Python. This could also be called from a tool such as [Postman](https://www.getpostman.com/), you can find a video demo here showing that process and tool"
   ]
  },
  {
   "cell_type": "code",
   "execution_count": 21,
   "metadata": {},
   "outputs": [],
   "source": [
    "import requests\n",
    "import json\n",
    "\n",
    "# URL for the web service\n",
    "scoring_uri = service.scoring_uri\n",
    "# If the service is authenticated, set the key or token\n",
    "key = primary\n",
    "\n",
    "# we can also pull the definition right from the swagger\n",
    "data = {\"data\":\n",
    "        [\n",
    "            [\n",
    "                0,               #escalated\n",
    "                2,               #GeographyID\n",
    "                9,               #OriginalScore\n",
    "                25,              #Tenure\n",
    "                'speed',         #theme\n",
    "                2,               #RoleID\n",
    "                'Europe',        #Continent\n",
    "                'France',        #CountryRegion\n",
    "                'consumer',      #RoleInOrg\n",
    "                1,               #CompletedTutorialBinary\n",
    "                1,               #RatingNumeric\n",
    "                23,              #DateCreatedDay\n",
    "                11,              #DateCreatedMonth\n",
    "                2018             #DateCreatedYear          \n",
    "            ]\n",
    "        ]\n",
    "        }"
   ]
  },
  {
   "cell_type": "code",
   "execution_count": 22,
   "metadata": {},
   "outputs": [],
   "source": [
    "# Convert to JSON string\n",
    "input_data = json.dumps(data)"
   ]
  },
  {
   "cell_type": "code",
   "execution_count": null,
   "metadata": {},
   "outputs": [],
   "source": [
    "\n",
    "# Set the content type\n",
    "headers = {'Content-Type': 'application/json'}\n",
    "# If authentication is enabled, set the authorization header\n",
    "#headers['Authorization'] = f'Bearer {key}'\n",
    "\n",
    "# Make the request and display the response\n",
    "resp = requests.post(scoring_uri, input_data, headers=headers)\n",
    "print(resp.text)"
   ]
  }
 ],
 "metadata": {
  "kernelspec": {
   "display_name": "Python 3.6 - AzureML",
   "language": "python",
   "name": "python3-azureml"
  },
  "language_info": {
   "codemirror_mode": {
    "name": "ipython",
    "version": 3
   },
   "file_extension": ".py",
   "mimetype": "text/x-python",
   "name": "python",
   "nbconvert_exporter": "python",
   "pygments_lexer": "ipython3",
   "version": "3.6.9"
  }
 },
 "nbformat": 4,
 "nbformat_minor": 4
}
