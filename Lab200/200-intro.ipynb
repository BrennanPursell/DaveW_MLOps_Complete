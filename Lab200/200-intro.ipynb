{
 "cells": [
  {
   "cell_type": "markdown",
   "metadata": {},
   "source": [
    "# Introduction to the Azure ML SDK\n",
    "\n",
    "Azure Machine Learning (*Azure ML*) is a cloud-based service for creating and managing machine learning solutions. It's designed to help data scientists leverage their existing data processing and model development skills and frameworks, and help them scale their workloads to the cloud. The Azure ML SDK for Python provides classes you can use to work with Azure ML in your Azure subscription.\n",
    "\n",
    "## Check the Azure ML SDK Version\n",
    "\n",
    "Let's start by importing the **azureml-core** package and checking the version of the SDK that is installed.\n",
    "\n",
    "Run the `pip3` command if the `import` fails.  Also, make sure if you have multiple kernels installed in your env that your pip3 command is referencing the running kernel.  "
   ]
  },
  {
   "cell_type": "code",
   "execution_count": null,
   "metadata": {},
   "outputs": [],
   "source": [
    "# !pip3 install azureml-sdk"
   ]
  },
  {
   "cell_type": "code",
   "execution_count": 1,
   "metadata": {},
   "outputs": [
    {
     "output_type": "stream",
     "name": "stdout",
     "text": [
      "Ready to use Azure ML 1.18.0\n"
     ]
    }
   ],
   "source": [
    "import azureml.core\n",
    "print(\"Ready to use Azure ML\", azureml.core.VERSION)"
   ]
  },
  {
   "cell_type": "code",
   "execution_count": 2,
   "metadata": {},
   "outputs": [
    {
     "output_type": "stream",
     "name": "stdout",
     "text": [
      "You are using Python 3.6.9 |Anaconda, Inc.| (default, Jul 30 2019, 19:07:31) \n[GCC 7.3.0]\n"
     ]
    }
   ],
   "source": [
    "import sys\n",
    "print('You are using Python', sys.version)"
   ]
  },
  {
   "source": [
    "Sometimes we release new versions of the SDK and you may not be running those in your AzureML compute environment if you haven't build a new personal compute instance in a while.  Always best to check and rebuild the compute every few weeks.  **Rebuilding the compute will not cause you to lose your data and storage**.  "
   ],
   "cell_type": "markdown",
   "metadata": {}
  },
  {
   "cell_type": "code",
   "execution_count": 3,
   "metadata": {},
   "outputs": [
    {
     "output_type": "stream",
     "name": "stdout",
     "text": [
      "azureml-accel-models                  1.18.0\n",
      "azureml-automl-core                   1.18.0\n",
      "azureml-automl-runtime                1.18.0\n",
      "azureml-cli-common                    1.18.0\n",
      "azureml-contrib-dataset               1.18.0\n",
      "azureml-contrib-fairness              1.18.0\n",
      "azureml-contrib-gbdt                  1.18.0\n",
      "azureml-contrib-interpret             1.18.0\n",
      "azureml-contrib-notebook              1.18.0\n",
      "azureml-contrib-pipeline-steps        1.18.0\n",
      "azureml-contrib-reinforcementlearning 1.18.0\n",
      "azureml-contrib-server                1.18.0\n",
      "azureml-contrib-services              1.18.0\n",
      "azureml-core                          1.18.0\n",
      "azureml-datadrift                     1.18.0\n",
      "azureml-dataprep                      2.4.2\n",
      "azureml-dataprep-native               24.0.0\n",
      "azureml-dataprep-rslex                1.2.2\n",
      "azureml-dataset-runtime               1.18.0\n",
      "azureml-defaults                      1.18.0\n",
      "azureml-explain-model                 1.18.0\n",
      "azureml-interpret                     1.18.0\n",
      "azureml-mlflow                        1.18.0\n",
      "azureml-model-management-sdk          1.0.1b6.post1\n",
      "azureml-opendatasets                  1.18.0\n",
      "azureml-pipeline                      1.18.0\n",
      "azureml-pipeline-core                 1.18.0\n",
      "azureml-pipeline-steps                1.18.0\n",
      "azureml-samples                       0+unknown\n",
      "azureml-sdk                           1.18.0\n",
      "azureml-telemetry                     1.18.0\n",
      "azureml-tensorboard                   1.18.0\n",
      "azureml-train                         1.18.0\n",
      "azureml-train-automl                  1.18.0\n",
      "azureml-train-automl-client           1.18.0\n",
      "azureml-train-automl-runtime          1.18.0\n",
      "azureml-train-core                    1.18.0\n",
      "azureml-train-restclients-hyperdrive  1.18.0\n",
      "azureml-widgets                       1.18.0\n",
      "Note: you may need to restart the kernel to use updated packages.\n"
     ]
    }
   ],
   "source": [
    "pip list | grep azureml"
   ]
  },
  {
   "cell_type": "code",
   "execution_count": 4,
   "metadata": {},
   "outputs": [
    {
     "output_type": "stream",
     "name": "stdout",
     "text": [
      "You are using Azure ML 1.18.0\n"
     ]
    }
   ],
   "source": [
    "import azureml.core \n",
    "print (\"You are using Azure ML\", azureml.core.VERSION)"
   ]
  },
  {
   "source": [
    "If you need to upgrade Azure ML..."
   ],
   "cell_type": "markdown",
   "metadata": {}
  },
  {
   "cell_type": "code",
   "execution_count": 5,
   "metadata": {},
   "outputs": [],
   "source": [
    "#!pip install --upgrade azureml-sdk\n",
    "#!pip install --upgrade azureml-sdk[automl,notebooks,explain,contrib,services,tensorboard]"
   ]
  },
  {
   "cell_type": "markdown",
   "metadata": {},
   "source": [
    "## Connect to Your Workspace\n",
    "\n",
    "All experiments and associated resources are managed within you Azure ML workspace. You can connect to an existing workspace, or create a new one using the Azure ML SDK.\n",
    "\n",
    "In most cases, you should store the workspace configuration in a JSON configuration file. This makes it easier to reconnect without needing to remember details like your Azure subscription ID. You can download the JSON configuration file from the blade for your workspace in the Azure portal, but if you're using a Compute Instance within your wokspace, the configuration file has already been downloaded to the root folder.\n",
    "\n",
    "The code below uses the configuration file to connect to your workspace. The first time you run it in a notebook session, you'll be prompted to sign into Azure by clicking the https://microsoft.com/devicelogin link,  entering an automatically generated code, and signing into Azure. After you have successfully signed in, you can close the browser tab that was opened and return to this notebook.\n",
    "\n",
    "If you don't have a workspace config file, here's how you get it:\n",
    "\n",
    "* open your AMLS instance in the azure portal, at the top you'll see `Download config.json`\n",
    "* save that file to `.azureml` in the root of your project\n",
    "* rerun the cell\n",
    "\n",
    "**Note: I have my personal config.json in the root of this folder, so you can just replace that**"
   ]
  },
  {
   "cell_type": "code",
   "execution_count": 6,
   "metadata": {},
   "outputs": [
    {
     "output_type": "stream",
     "name": "stdout",
     "text": [
      "Performing interactive authentication. Please follow the instructions on the terminal.\n",
      "To sign in, use a web browser to open the page https://microsoft.com/devicelogin and enter the code R7FQAVZZR to authenticate.\n",
      "You have logged in. Now let us find all the subscriptions to which you have access...\n",
      "WARNING - Failed to authenticate to tenant '354e6dce-302d-4d66-9ae3-8947df67c030' due to error 'Get Token request returned http error: 400 and server response: {\"error\":\"interaction_required\",\"error_description\":\"AADSTS50076: Due to a configuration change made by your administrator, or because you moved to a new location, you must use multi-factor authentication to access '797f4846-ba00-4fd7-ba43-dac1f8f63013'.\\r\\nTrace ID: ae4f9310-019b-4e2f-9be2-e874e2581700\\r\\nCorrelation ID: e2f9dc16-b5b9-476d-ba1c-6f2550987340\\r\\nTimestamp: 2021-03-03 16:40:15Z\",\"error_codes\":[50076],\"timestamp\":\"2021-03-03 16:40:15Z\",\"trace_id\":\"ae4f9310-019b-4e2f-9be2-e874e2581700\",\"correlation_id\":\"e2f9dc16-b5b9-476d-ba1c-6f2550987340\",\"error_uri\":\"https://login.microsoftonline.com/error?code=50076\",\"suberror\":\"basic_action\"}'.Will continue to look for other tenants to find subscriptions to which you have access\n",
      "Interactive authentication successfully completed.\n",
      "Workspace configuration succeeded\n"
     ]
    }
   ],
   "source": [
    "from azureml.core import Workspace\n",
    "\n",
    "ws = Workspace.from_config()\n",
    "\n",
    "print('Workspace configuration succeeded')"
   ]
  },
  {
   "source": [
    "Here is an alternative way, in code, to write out your config file"
   ],
   "cell_type": "markdown",
   "metadata": {}
  },
  {
   "cell_type": "code",
   "execution_count": null,
   "metadata": {},
   "outputs": [],
   "source": [
    "import os\n",
    "subscription_id = os.environ.get(\"SUBSCRIPTION_ID\", \"<changeme>\")\n",
    "resource_group = os.environ.get(\"RESOURCE_GROUP\", \"<changeme>\")\n",
    "workspace_name = os.environ.get(\"WORKSPACE_NAME\", \"<changeme>\")\n",
    "\n",
    "from azureml.core import Workspace\n",
    "try:\n",
    "   ws = Workspace(subscription_id = subscription_id, resource_group = resource_group, workspace_name = workspace_name)\n",
    "   ws.write_config()\n",
    "   print(\"OK\")\n",
    "except:\n",
    "   print(\"Error: Workspace not found\")"
   ]
  },
  {
   "cell_type": "code",
   "execution_count": 8,
   "metadata": {},
   "outputs": [
    {
     "output_type": "execute_result",
     "data": {
      "text/plain": [
       "{'id': '/subscriptions/52061d21-01dd-4f9e-aca9-60fff4d67ee2/resourceGroups/MLOpsWorkshop/providers/Microsoft.MachineLearningServices/workspaces/mlops',\n",
       " 'name': 'mlops',\n",
       " 'location': 'eastus',\n",
       " 'type': 'Microsoft.MachineLearningServices/workspaces',\n",
       " 'tags': {},\n",
       " 'sku': 'Basic',\n",
       " 'workspaceid': 'ff8ef3fc-dbd9-4bd7-8d8a-d734bf3dfc40',\n",
       " 'sdkTelemetryAppInsightsKey': 'f5784ccd-178d-4ecc-9998-b05841b44ae9',\n",
       " 'description': '',\n",
       " 'friendlyName': '',\n",
       " 'creationTime': '2019-10-23T15:45:18.1770440+00:00',\n",
       " 'containerRegistry': '/subscriptions/52061d21-01dd-4f9e-aca9-60fff4d67ee2/resourceGroups/MLOpsWorkshop/providers/Microsoft.ContainerRegistry/registries/mlopse1388ade',\n",
       " 'keyVault': '/subscriptions/52061d21-01dd-4f9e-aca9-60fff4d67ee2/resourcegroups/mlopsworkshop/providers/microsoft.keyvault/vaults/mlops1134511691',\n",
       " 'applicationInsights': '/subscriptions/52061d21-01dd-4f9e-aca9-60fff4d67ee2/resourcegroups/mlopsworkshop/providers/microsoft.insights/components/mlops1128078900',\n",
       " 'identityPrincipalId': '685a6645-e7b6-4674-9c25-545be6de27aa',\n",
       " 'identityTenantId': '72f988bf-86f1-41af-91ab-2d7cd011db47',\n",
       " 'identityType': 'SystemAssigned',\n",
       " 'storageAccount': '/subscriptions/52061d21-01dd-4f9e-aca9-60fff4d67ee2/resourcegroups/mlopsworkshop/providers/microsoft.storage/storageaccounts/mlops3730696013',\n",
       " 'hbiWorkspace': False,\n",
       " 'imageBuildCompute': '',\n",
       " 'discoveryUrl': 'https://eastus.experiments.azureml.net/discovery',\n",
       " 'notebookInfo': {'fqdn': 'ml-mlops-eastus-ff8ef3fc-dbd9-4bd7-8d8a-d734bf3dfc40.notebooks.azure.net',\n",
       "  'resource_id': '59bada64722b446bb426d9c870d6f1f7'}}"
      ]
     },
     "metadata": {},
     "execution_count": 8
    }
   ],
   "source": [
    "# get workspace information if you aren't sure which workspace you are connected to\n",
    "ws = Workspace.from_config()\n",
    "ws.get_details()"
   ]
  },
  {
   "cell_type": "code",
   "execution_count": 7,
   "metadata": {},
   "outputs": [
    {
     "output_type": "stream",
     "name": "stdout",
     "text": [
      "Versions :\n- Python = 3.6.9 |Anaconda, Inc.| (default, Jul 30 2019, 19:07:31) \n[GCC 7.3.0]\n- scipy = 1.5.2\n- numpy = 1.18.5\n- matplotlib = 3.2.1\n- pandas = 1.1.4\n- sklearn = 0.23.2\n- Azure ML = 1.18.0\n"
     ]
    }
   ],
   "source": [
    "## Session Information\n",
    "## this is also valuable if you think you may have a library mismatch\n",
    "import scipy, numpy, matplotlib, pandas, sklearn\n",
    "print(\"Versions :\")\n",
    "print('- Python = {}'.format(sys.version))\n",
    "print('- scipy = {}'.format(scipy.__version__))\n",
    "print('- numpy = {}'.format(numpy.__version__))\n",
    "print('- matplotlib = {}'.format(matplotlib.__version__))\n",
    "print('- pandas = {}'.format(pandas.__version__))\n",
    "print('- sklearn = {}'.format(sklearn.__version__))\n",
    "print(\"- Azure ML =\",azureml.core.VERSION)"
   ]
  },
  {
   "cell_type": "markdown",
   "metadata": {},
   "source": [
    "## View Azure ML Resources\n",
    "\n",
    "Now that you have a connection to your workspace, you can view the resources it contains."
   ]
  },
  {
   "cell_type": "code",
   "execution_count": 9,
   "metadata": {},
   "outputs": [
    {
     "output_type": "stream",
     "name": "stdout",
     "text": [
      "Compute Targets:\n",
      "\t infer-cluster : AKS\n",
      "\t gpucluster : AmlCompute\n",
      "\t automl : AmlCompute\n",
      "\t automl-big : AmlCompute\n",
      "\t davew-compute : ComputeInstance\n",
      "\t davew-small : ComputeInstance\n",
      "\t dturner-compute : ComputeInstance\n",
      "\t davew : ComputeInstance\n",
      "\t rross : ComputeInstance\n",
      "\t davew2 : ComputeInstance\n",
      "\t big : ComputeInstance\n",
      "\t mem-big : ComputeInstance\n",
      "Datastores:\n",
      "\t davewdemoblobs : AzureBlob\n",
      "\t azureml_globaldatasets : AzureBlob\n",
      "\t workspacefilestore : AzureFile\n",
      "\t workspaceblobstore : AzureBlob\n",
      "Datasets:\n",
      "\t customer488\n",
      "\t synovos-curated488\n",
      "\t synovos488class-tabular\n",
      "\t synovos-curated\n",
      "\t synovos-cat-items\n",
      "\t accts_receivable\n",
      "\t ar-factoring-2class\n",
      "\t ar-factoring\n",
      "\t data_train_experiment\n",
      "\t diabetes target\n",
      "\t diabetes baseline\n",
      "\t diabetes dataset\n",
      "\t avantor-10prods\n",
      "\t ts-avantor\n",
      "\t merged\n",
      "\t attrition-dataset\n",
      "\t connected_car_components\n",
      "\t glove_6B_100d\n"
     ]
    }
   ],
   "source": [
    "from azureml.core import ComputeTarget, Datastore, Dataset\n",
    "\n",
    "print(\"Compute Targets:\")\n",
    "for compute_name in ws.compute_targets:\n",
    "    compute = ws.compute_targets[compute_name]\n",
    "    print(\"\\t\", compute.name, ':', compute.type)\n",
    "    \n",
    "print(\"Datastores:\")\n",
    "for datastore_name in ws.datastores:\n",
    "    datastore = Datastore.get(ws, datastore_name)\n",
    "    print(\"\\t\", datastore.name, ':', datastore.datastore_type)\n",
    "    \n",
    "print(\"Datasets:\")\n",
    "for dataset_name in list(ws.datasets.keys()):\n",
    "    dataset = Dataset.get_by_name(ws, dataset_name)\n",
    "    print(\"\\t\", dataset.name)"
   ]
  },
  {
   "cell_type": "markdown",
   "metadata": {},
   "source": [
    "Now you've seen how to use the Azure ML SDK to view the resources in your workspace. The SDK provides a great way to script the creation and configuration of the resources you need to operate machine learning workloads using Azure ML. For more details, see the [Azure ML SDK documentation](https://docs.microsoft.com/python/api/overview/azure/ml/intro?view=azure-ml-py)."
   ]
  }
 ],
 "metadata": {
  "kernelspec": {
   "name": "python3",
   "display_name": "Python 3",
   "language": "python"
  },
  "language_info": {
   "codemirror_mode": {
    "name": "ipython",
    "version": 3
   },
   "file_extension": ".py",
   "mimetype": "text/x-python",
   "name": "python",
   "nbconvert_exporter": "python",
   "pygments_lexer": "ipython3",
   "version": "3.8.3-final"
  }
 },
 "nbformat": 4,
 "nbformat_minor": 2
}