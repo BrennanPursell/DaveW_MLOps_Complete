{
 "cells": [
  {
   "cell_type": "markdown",
   "metadata": {},
   "source": [
    "# Test our scripts locally"
   ]
  },
  {
   "cell_type": "markdown",
   "metadata": {},
   "source": [
    "In this tutorial, we have a pretrained style transfer model that is used on a video to apply style transfer to each frame of the video. \n",
    "\n",
    "In this notebook, we test each of our python scripts locally to see that they perform as intended. We will test the following:\n",
    "- `scripts/preprocess_video.py` - which splits up the video into individually frames\n",
    "- `scripts/style_transfer.py` - which applies the style transfer algorithm to each image\n",
    "- `scripts/postprocess_video.py` - which stitches the style transfered images back together\n",
    "\n",
    "The final video will have style transfer applied to each frame."
   ]
  },
  {
   "cell_type": "markdown",
   "metadata": {},
   "source": [
    "---"
   ]
  },
  {
   "cell_type": "markdown",
   "metadata": {},
   "source": [
    "Import torch which is used to detect gpu availability"
   ]
  },
  {
   "cell_type": "code",
   "execution_count": null,
   "metadata": {},
   "outputs": [],
   "source": [
    "import torch "
   ]
  },
  {
   "cell_type": "code",
   "execution_count": null,
   "metadata": {},
   "outputs": [],
   "source": [
    "# note the output as to whether a GPU is available, we will use this later\n",
    "torch.cuda.is_available()"
   ]
  },
  {
   "cell_type": "markdown",
   "metadata": {},
   "source": [
    "A create a directory to perform the local testing in."
   ]
  },
  {
   "cell_type": "code",
   "execution_count": null,
   "metadata": {},
   "outputs": [],
   "source": [
    "!mkdir local_test_orangutan"
   ]
  },
  {
   "cell_type": "markdown",
   "metadata": {},
   "source": [
    "Download a video to test with."
   ]
  },
  {
   "cell_type": "code",
   "execution_count": null,
   "metadata": {},
   "outputs": [],
   "source": [
    "!wget https://happypathspublic.blob.core.windows.net/videos/orangutan.mp4"
   ]
  },
  {
   "cell_type": "markdown",
   "metadata": {},
   "source": [
    "Take a look at what the original video looks like.  This may not work using vscode remote ssh:"
   ]
  },
  {
   "cell_type": "code",
   "execution_count": null,
   "metadata": {},
   "outputs": [],
   "source": [
    "%%HTML\n",
    "<video width=\"320\" height=\"240\" controls>\n",
    "  <source src=\"orangutan.mp4\" type=\"video/mp4\">\n",
    "</video>"
   ]
  },
  {
   "cell_type": "markdown",
   "metadata": {},
   "source": [
    "### Testing the preprocessing script\n",
    "\n",
    "* switch over to your terminal session in JupyterLab and run the following\n",
    "\n",
    "```bash\n",
    "cd notebooks\n",
    "python scripts/preprocess_video.py \\\n",
    "    --input-video orangutan.mp4 \\\n",
    "    --output-audio local_test_orangutan/audio.aac \\\n",
    "    --output-images local_test_orangutan/input_frames\n",
    "\n",
    "```"
   ]
  },
  {
   "cell_type": "markdown",
   "metadata": {},
   "source": [
    "### Testing the style transfer script\n",
    "\n",
    "Run this in your terminal in JupyterLab\n",
    "\n",
    "**Note:  set `--cuda ` to 1 if you have GPUs available from the `torch` command above.**\n",
    "\n",
    "```bash\n",
    "mkdir local_test_orangutan/output_frames\n",
    "\n",
    "python scripts/style_transfer.py \\\n",
    "    --model-dir models \\\n",
    "    --cuda 0 \\\n",
    "    --content-dir local_test_orangutan/input_frames \\\n",
    "    --output-dir local_test_orangutan/output_frames\n",
    "    \n",
    "```\n",
    "\n",
    "Without GPUs this will likely take some time.  "
   ]
  },
  {
   "cell_type": "markdown",
   "metadata": {},
   "source": [
    "### Testing the postprocessing script\n",
    "\n",
    "The script will output a new video named `{video_name}_processed.mp4`.\n",
    "\n",
    "```bash\n",
    "python scripts/postprocess_video.py \\\n",
    "    --images-dir local_test_orangutan/output_frames \\\n",
    "    --input-audio local_test_orangutan/audio.aac \\\n",
    "    --video orangutan \\\n",
    "    --output-dir local_test_orangutan\n",
    "```\n"
   ]
  },
  {
   "cell_type": "markdown",
   "metadata": {},
   "source": [
    "### Check that the video output looks right"
   ]
  },
  {
   "cell_type": "code",
   "execution_count": null,
   "metadata": {},
   "outputs": [],
   "source": [
    "%%HTML\n",
    "<video width=\"320\" height=\"240\" controls>\n",
    "  <source src=\"local_test_orangutan/orangutan_processed.mp4\" type=\"video/mp4\">\n",
    "</video>"
   ]
  },
  {
   "cell_type": "markdown",
   "metadata": {},
   "source": [
    "---"
   ]
  },
  {
   "cell_type": "markdown",
   "metadata": {},
   "source": [
    "You are now ready to move on to the [next notebook](02_setup_aml.ipynb)."
   ]
  }
 ],
 "metadata": {
  "kernelspec": {
   "display_name": "Python [conda env:batchscoringdl_aml]",
   "language": "python",
   "name": "conda-env-batchscoringdl_aml-py"
  },
  "language_info": {
   "codemirror_mode": {
    "name": "ipython",
    "version": 3
   },
   "file_extension": ".py",
   "mimetype": "text/x-python",
   "name": "python",
   "nbconvert_exporter": "python",
   "pygments_lexer": "ipython3",
   "version": "3.6.7"
  }
 },
 "nbformat": 4,
 "nbformat_minor": 2
}