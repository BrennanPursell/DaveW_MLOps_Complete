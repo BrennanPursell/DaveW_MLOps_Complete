{
 "cells": [
  {
   "cell_type": "markdown",
   "metadata": {},
   "source": [
    "# Associations rules\n",
    "\n",
    "The discovery of associations is the search for links between several events. When we study the events that take place consecutively to one or more other events (analysis in time) we speak of a sequence.\n",
    "\n",
    "## Objectives\n",
    "\n",
    "- Link different products and better understand the cross-selling behaviors of customers.\n",
    "- Quantify the existence of links between several products.\n",
    "- Analyze the path of the customers in a store, on a website, etc\n",
    "- Product highlighting or removal of a product\n",
    "\n",
    "## Background\n",
    "\n",
    "- The **support** index: measures the frequency of appearance of A and B on the same ticket (number of tickets with A and B/total number of tickets)\n",
    "- The **confidence** index: probability of B appearing on tickets with A (number of tickets with A and B/number of tickets with A).\n",
    "- The lever or **lift**: the relative weight of this association given the natural frequency of appearance of B.\n",
    "\n",
    "## Steps\n",
    "1. We will load sample transaction data\n",
    "2. We are going to apply a Associations ML model in order to find the relevant association rules\n",
    "3. The most important rules are saved in order to make them persistent"
   ]
  },
  {
   "cell_type": "markdown",
   "metadata": {},
   "source": [
    "## Steps\n",
    "1. We will load some transaction data\n",
    "2. We are going to apply a Associations ML model in order to find the relevant association rules\n",
    "3. The most important rules are saved in order to make them persistant\n",
    "\n",
    "![](../images/associations.jpg)\n"
   ]
  },
  {
   "cell_type": "code",
   "execution_count": null,
   "metadata": {},
   "outputs": [],
   "source": [
    "# Installation of mlxtend for association rules\n",
    "# Documentation : http://rasbt.github.io/mlxtend/user_guide/frequent_patterns/association_rules/\n",
    "!pip install mlxtend wheel pandas"
   ]
  },
  {
   "cell_type": "code",
   "execution_count": 2,
   "metadata": {},
   "outputs": [
    {
     "output_type": "stream",
     "name": "stdout",
     "text": [
      "You are running Python 3.6.9 |Anaconda, Inc.| (default, Jul 30 2019, 19:07:31) \n[GCC 7.3.0]\n"
     ]
    }
   ],
   "source": [
    "import sys\n",
    "import datetime\n",
    "import pandas as pd\n",
    "print(\"You are running Python\", sys.version)"
   ]
  },
  {
   "cell_type": "code",
   "execution_count": 3,
   "metadata": {},
   "outputs": [],
   "source": [
    "from mlxtend.frequent_patterns import apriori\n",
    "from mlxtend.frequent_patterns import association_rules"
   ]
  },
  {
   "cell_type": "code",
   "execution_count": 4,
   "metadata": {},
   "outputs": [
    {
     "output_type": "stream",
     "name": "stdout",
     "text": [
      "You are using Azure ML 1.22.0\n"
     ]
    }
   ],
   "source": [
    "import azureml.core\n",
    "print(\"You are using Azure ML\", azureml.core.VERSION)"
   ]
  },
  {
   "cell_type": "code",
   "execution_count": 6,
   "metadata": {},
   "outputs": [],
   "source": [
    "import logging\n",
    "import os\n",
    "import random\n",
    "\n",
    "from matplotlib import pyplot as plt\n",
    "from matplotlib.pyplot import imshow\n",
    "import numpy as np\n",
    "import pandas as pd\n",
    "from sklearn import datasets"
   ]
  },
  {
   "cell_type": "markdown",
   "metadata": {},
   "source": [
    "## 1. Data Access\n"
   ]
  },
  {
   "cell_type": "code",
   "execution_count": 9,
   "metadata": {},
   "outputs": [],
   "source": [
    "transaction_file = \"https://git.davewentzel.com/demos/MLOps-E2E/-/raw/master/Lab900/association_transactions.csv\"\n",
    "\n",
    "\n",
    "dfTransactions = pd.read_csv (transaction_file,sep=\",\",header=0)"
   ]
  },
  {
   "cell_type": "code",
   "execution_count": 10,
   "metadata": {},
   "outputs": [
    {
     "output_type": "execute_result",
     "data": {
      "text/plain": [
       "  OrderID            Date  ClientID ProductID  \\\n",
       "0  536370  1/12/2010 8:45   12583.0     22728   \n",
       "1  536370  1/12/2010 8:45   12583.0     22727   \n",
       "2  536370  1/12/2010 8:45   12583.0     22726   \n",
       "3  536370  1/12/2010 8:45   12583.0     21724   \n",
       "4  536370  1/12/2010 8:45   12583.0     21883   \n",
       "5  536370  1/12/2010 8:45   12583.0     10002   \n",
       "6  536370  1/12/2010 8:45   12583.0     21791   \n",
       "7  536370  1/12/2010 8:45   12583.0     21035   \n",
       "8  536370  1/12/2010 8:45   12583.0     22326   \n",
       "9  536370  1/12/2010 8:45   12583.0     22629   \n",
       "\n",
       "                           Description  Quantity  Price  \n",
       "0            ALARM CLOCK BAKELIKE PINK        24   3.75  \n",
       "1            ALARM CLOCK BAKELIKE RED         24   3.75  \n",
       "2           ALARM CLOCK BAKELIKE GREEN        12   3.75  \n",
       "3      PANDA AND BUNNIES STICKER SHEET        12   0.85  \n",
       "4                     STARS GIFT TAPE         24   0.65  \n",
       "5          INFLATABLE POLITICAL GLOBE         48   0.85  \n",
       "6   VINTAGE HEADS AND TAILS CARD GAME         24   1.25  \n",
       "7      SET/2 RED RETROSPOT TEA TOWELS         18   2.95  \n",
       "8  ROUND SNACK BOXES SET OF4 WOODLAND         24   2.95  \n",
       "9                  SPACEBOY LUNCH BOX         24   1.95  "
      ],
      "text/html": "<div>\n<style scoped>\n    .dataframe tbody tr th:only-of-type {\n        vertical-align: middle;\n    }\n\n    .dataframe tbody tr th {\n        vertical-align: top;\n    }\n\n    .dataframe thead th {\n        text-align: right;\n    }\n</style>\n<table border=\"1\" class=\"dataframe\">\n  <thead>\n    <tr style=\"text-align: right;\">\n      <th></th>\n      <th>OrderID</th>\n      <th>Date</th>\n      <th>ClientID</th>\n      <th>ProductID</th>\n      <th>Description</th>\n      <th>Quantity</th>\n      <th>Price</th>\n    </tr>\n  </thead>\n  <tbody>\n    <tr>\n      <th>0</th>\n      <td>536370</td>\n      <td>1/12/2010 8:45</td>\n      <td>12583.0</td>\n      <td>22728</td>\n      <td>ALARM CLOCK BAKELIKE PINK</td>\n      <td>24</td>\n      <td>3.75</td>\n    </tr>\n    <tr>\n      <th>1</th>\n      <td>536370</td>\n      <td>1/12/2010 8:45</td>\n      <td>12583.0</td>\n      <td>22727</td>\n      <td>ALARM CLOCK BAKELIKE RED</td>\n      <td>24</td>\n      <td>3.75</td>\n    </tr>\n    <tr>\n      <th>2</th>\n      <td>536370</td>\n      <td>1/12/2010 8:45</td>\n      <td>12583.0</td>\n      <td>22726</td>\n      <td>ALARM CLOCK BAKELIKE GREEN</td>\n      <td>12</td>\n      <td>3.75</td>\n    </tr>\n    <tr>\n      <th>3</th>\n      <td>536370</td>\n      <td>1/12/2010 8:45</td>\n      <td>12583.0</td>\n      <td>21724</td>\n      <td>PANDA AND BUNNIES STICKER SHEET</td>\n      <td>12</td>\n      <td>0.85</td>\n    </tr>\n    <tr>\n      <th>4</th>\n      <td>536370</td>\n      <td>1/12/2010 8:45</td>\n      <td>12583.0</td>\n      <td>21883</td>\n      <td>STARS GIFT TAPE</td>\n      <td>24</td>\n      <td>0.65</td>\n    </tr>\n    <tr>\n      <th>5</th>\n      <td>536370</td>\n      <td>1/12/2010 8:45</td>\n      <td>12583.0</td>\n      <td>10002</td>\n      <td>INFLATABLE POLITICAL GLOBE</td>\n      <td>48</td>\n      <td>0.85</td>\n    </tr>\n    <tr>\n      <th>6</th>\n      <td>536370</td>\n      <td>1/12/2010 8:45</td>\n      <td>12583.0</td>\n      <td>21791</td>\n      <td>VINTAGE HEADS AND TAILS CARD GAME</td>\n      <td>24</td>\n      <td>1.25</td>\n    </tr>\n    <tr>\n      <th>7</th>\n      <td>536370</td>\n      <td>1/12/2010 8:45</td>\n      <td>12583.0</td>\n      <td>21035</td>\n      <td>SET/2 RED RETROSPOT TEA TOWELS</td>\n      <td>18</td>\n      <td>2.95</td>\n    </tr>\n    <tr>\n      <th>8</th>\n      <td>536370</td>\n      <td>1/12/2010 8:45</td>\n      <td>12583.0</td>\n      <td>22326</td>\n      <td>ROUND SNACK BOXES SET OF4 WOODLAND</td>\n      <td>24</td>\n      <td>2.95</td>\n    </tr>\n    <tr>\n      <th>9</th>\n      <td>536370</td>\n      <td>1/12/2010 8:45</td>\n      <td>12583.0</td>\n      <td>22629</td>\n      <td>SPACEBOY LUNCH BOX</td>\n      <td>24</td>\n      <td>1.95</td>\n    </tr>\n  </tbody>\n</table>\n</div>"
     },
     "metadata": {},
     "execution_count": 10
    }
   ],
   "source": [
    "dfTransactions.head(10)"
   ]
  },
  {
   "cell_type": "code",
   "execution_count": 11,
   "metadata": {},
   "outputs": [
    {
     "output_type": "execute_result",
     "data": {
      "text/plain": [
       "(8556, 7)"
      ]
     },
     "metadata": {},
     "execution_count": 11
    }
   ],
   "source": [
    "dfTransactions.shape"
   ]
  },
  {
   "cell_type": "markdown",
   "metadata": {},
   "source": [
    "## 2. Data Engineering"
   ]
  },
  {
   "cell_type": "code",
   "execution_count": 12,
   "metadata": {},
   "outputs": [],
   "source": [
    "dfTransactions['Description'] = dfTransactions['Description'].str.strip()\n",
    "dfTransactions.dropna(axis=0, subset=['OrderID'], inplace=True)\n",
    "dfTransactions['OrderID'] = dfTransactions['OrderID'].astype('str')\n",
    "#dfTransactions = dfTransactions[~dfTransactions['OrderID'].str.contains('C')]"
   ]
  },
  {
   "cell_type": "code",
   "execution_count": 16,
   "metadata": {},
   "outputs": [],
   "source": [
    "basket = (dfTransactions\n",
    "          .groupby(['OrderID', 'Description'])\n",
    "          ['Quantity'].sum()\n",
    "          .unstack()   #this is basically a pivot of the Product\n",
    "          .reset_index()\n",
    "          .fillna(0)\n",
    "          .set_index('OrderID'))"
   ]
  },
  {
   "cell_type": "code",
   "execution_count": 17,
   "metadata": {},
   "outputs": [
    {
     "output_type": "execute_result",
     "data": {
      "text/plain": [
       "Description  10 COLOUR SPACEBOY PEN  12 COLOURED PARTY BALLOONS  \\\n",
       "OrderID                                                           \n",
       "536370                          0.0                         0.0   \n",
       "536852                          0.0                         0.0   \n",
       "536974                          0.0                         0.0   \n",
       "537065                          0.0                         0.0   \n",
       "537463                          0.0                         0.0   \n",
       "537468                         24.0                         0.0   \n",
       "537693                          0.0                         0.0   \n",
       "537897                          0.0                         0.0   \n",
       "537967                          0.0                         0.0   \n",
       "538008                          0.0                         0.0   \n",
       "\n",
       "Description  12 EGG HOUSE PAINTED WOOD  12 MESSAGE CARDS WITH ENVELOPES  \\\n",
       "OrderID                                                                   \n",
       "536370                             0.0                              0.0   \n",
       "536852                             0.0                              0.0   \n",
       "536974                             0.0                              0.0   \n",
       "537065                             0.0                              0.0   \n",
       "537463                             0.0                              0.0   \n",
       "537468                             0.0                              0.0   \n",
       "537693                             0.0                              0.0   \n",
       "537897                             0.0                              0.0   \n",
       "537967                             0.0                              0.0   \n",
       "538008                             0.0                              0.0   \n",
       "\n",
       "Description  12 PENCIL SMALL TUBE WOODLAND  \\\n",
       "OrderID                                      \n",
       "536370                                 0.0   \n",
       "536852                                 0.0   \n",
       "536974                                 0.0   \n",
       "537065                                 0.0   \n",
       "537463                                 0.0   \n",
       "537468                                 0.0   \n",
       "537693                                 0.0   \n",
       "537897                                 0.0   \n",
       "537967                                 0.0   \n",
       "538008                                 0.0   \n",
       "\n",
       "Description  12 PENCILS SMALL TUBE RED RETROSPOT  12 PENCILS SMALL TUBE SKULL  \\\n",
       "OrderID                                                                         \n",
       "536370                                       0.0                          0.0   \n",
       "536852                                       0.0                          0.0   \n",
       "536974                                       0.0                          0.0   \n",
       "537065                                       0.0                          0.0   \n",
       "537463                                       0.0                          0.0   \n",
       "537468                                       0.0                          0.0   \n",
       "537693                                       0.0                          0.0   \n",
       "537897                                       0.0                          0.0   \n",
       "537967                                       0.0                          0.0   \n",
       "538008                                       0.0                          0.0   \n",
       "\n",
       "Description  12 PENCILS TALL TUBE POSY  12 PENCILS TALL TUBE RED RETROSPOT  \\\n",
       "OrderID                                                                      \n",
       "536370                             0.0                                 0.0   \n",
       "536852                             0.0                                 0.0   \n",
       "536974                             0.0                                 0.0   \n",
       "537065                             0.0                                 0.0   \n",
       "537463                             0.0                                 0.0   \n",
       "537468                             0.0                                 0.0   \n",
       "537693                             0.0                                 0.0   \n",
       "537897                             0.0                                 0.0   \n",
       "537967                             0.0                                 0.0   \n",
       "538008                             0.0                                 0.0   \n",
       "\n",
       "Description  12 PENCILS TALL TUBE WOODLAND  ...  WRAP VINTAGE PETALS  DESIGN  \\\n",
       "OrderID                                     ...                                \n",
       "536370                                 0.0  ...                          0.0   \n",
       "536852                                 0.0  ...                          0.0   \n",
       "536974                                 0.0  ...                          0.0   \n",
       "537065                                 0.0  ...                          0.0   \n",
       "537463                                 0.0  ...                          0.0   \n",
       "537468                                 0.0  ...                          0.0   \n",
       "537693                                 0.0  ...                          0.0   \n",
       "537897                                 0.0  ...                          0.0   \n",
       "537967                                 0.0  ...                          0.0   \n",
       "538008                                 0.0  ...                          0.0   \n",
       "\n",
       "Description  YELLOW COAT RACK PARIS FASHION  YELLOW GIANT GARDEN THERMOMETER  \\\n",
       "OrderID                                                                        \n",
       "536370                                  0.0                              0.0   \n",
       "536852                                  0.0                              0.0   \n",
       "536974                                  0.0                              0.0   \n",
       "537065                                  0.0                              0.0   \n",
       "537463                                  0.0                              0.0   \n",
       "537468                                  0.0                              0.0   \n",
       "537693                                  0.0                              0.0   \n",
       "537897                                  0.0                              0.0   \n",
       "537967                                  0.0                              0.0   \n",
       "538008                                  0.0                              0.0   \n",
       "\n",
       "Description  YELLOW SHARK HELICOPTER  ZINC  STAR T-LIGHT HOLDER  \\\n",
       "OrderID                                                           \n",
       "536370                           0.0                        0.0   \n",
       "536852                           0.0                        0.0   \n",
       "536974                           0.0                        0.0   \n",
       "537065                           0.0                        0.0   \n",
       "537463                           0.0                        0.0   \n",
       "537468                           0.0                        0.0   \n",
       "537693                           0.0                        0.0   \n",
       "537897                           0.0                        0.0   \n",
       "537967                           0.0                        0.0   \n",
       "538008                           0.0                        0.0   \n",
       "\n",
       "Description  ZINC FOLKART SLEIGH BELLS  ZINC HERB GARDEN CONTAINER  \\\n",
       "OrderID                                                              \n",
       "536370                             0.0                         0.0   \n",
       "536852                             0.0                         0.0   \n",
       "536974                             0.0                         0.0   \n",
       "537065                             0.0                         0.0   \n",
       "537463                             0.0                         0.0   \n",
       "537468                             0.0                         0.0   \n",
       "537693                             0.0                         0.0   \n",
       "537897                             0.0                         0.0   \n",
       "537967                             0.0                         0.0   \n",
       "538008                             0.0                         0.0   \n",
       "\n",
       "Description  ZINC METAL HEART DECORATION  ZINC T-LIGHT HOLDER STAR LARGE  \\\n",
       "OrderID                                                                    \n",
       "536370                               0.0                             0.0   \n",
       "536852                               0.0                             0.0   \n",
       "536974                               0.0                             0.0   \n",
       "537065                               0.0                             0.0   \n",
       "537463                               0.0                             0.0   \n",
       "537468                               0.0                             0.0   \n",
       "537693                               0.0                             0.0   \n",
       "537897                               0.0                             0.0   \n",
       "537967                               0.0                             0.0   \n",
       "538008                               0.0                             0.0   \n",
       "\n",
       "Description  ZINC T-LIGHT HOLDER STARS SMALL  \n",
       "OrderID                                       \n",
       "536370                                   0.0  \n",
       "536852                                   0.0  \n",
       "536974                                   0.0  \n",
       "537065                                   0.0  \n",
       "537463                                   0.0  \n",
       "537468                                   0.0  \n",
       "537693                                   0.0  \n",
       "537897                                   0.0  \n",
       "537967                                   0.0  \n",
       "538008                                   0.0  \n",
       "\n",
       "[10 rows x 1564 columns]"
      ],
      "text/html": "<div>\n<style scoped>\n    .dataframe tbody tr th:only-of-type {\n        vertical-align: middle;\n    }\n\n    .dataframe tbody tr th {\n        vertical-align: top;\n    }\n\n    .dataframe thead th {\n        text-align: right;\n    }\n</style>\n<table border=\"1\" class=\"dataframe\">\n  <thead>\n    <tr style=\"text-align: right;\">\n      <th>Description</th>\n      <th>10 COLOUR SPACEBOY PEN</th>\n      <th>12 COLOURED PARTY BALLOONS</th>\n      <th>12 EGG HOUSE PAINTED WOOD</th>\n      <th>12 MESSAGE CARDS WITH ENVELOPES</th>\n      <th>12 PENCIL SMALL TUBE WOODLAND</th>\n      <th>12 PENCILS SMALL TUBE RED RETROSPOT</th>\n      <th>12 PENCILS SMALL TUBE SKULL</th>\n      <th>12 PENCILS TALL TUBE POSY</th>\n      <th>12 PENCILS TALL TUBE RED RETROSPOT</th>\n      <th>12 PENCILS TALL TUBE WOODLAND</th>\n      <th>...</th>\n      <th>WRAP VINTAGE PETALS  DESIGN</th>\n      <th>YELLOW COAT RACK PARIS FASHION</th>\n      <th>YELLOW GIANT GARDEN THERMOMETER</th>\n      <th>YELLOW SHARK HELICOPTER</th>\n      <th>ZINC  STAR T-LIGHT HOLDER</th>\n      <th>ZINC FOLKART SLEIGH BELLS</th>\n      <th>ZINC HERB GARDEN CONTAINER</th>\n      <th>ZINC METAL HEART DECORATION</th>\n      <th>ZINC T-LIGHT HOLDER STAR LARGE</th>\n      <th>ZINC T-LIGHT HOLDER STARS SMALL</th>\n    </tr>\n    <tr>\n      <th>OrderID</th>\n      <th></th>\n      <th></th>\n      <th></th>\n      <th></th>\n      <th></th>\n      <th></th>\n      <th></th>\n      <th></th>\n      <th></th>\n      <th></th>\n      <th></th>\n      <th></th>\n      <th></th>\n      <th></th>\n      <th></th>\n      <th></th>\n      <th></th>\n      <th></th>\n      <th></th>\n      <th></th>\n      <th></th>\n    </tr>\n  </thead>\n  <tbody>\n    <tr>\n      <th>536370</th>\n      <td>0.0</td>\n      <td>0.0</td>\n      <td>0.0</td>\n      <td>0.0</td>\n      <td>0.0</td>\n      <td>0.0</td>\n      <td>0.0</td>\n      <td>0.0</td>\n      <td>0.0</td>\n      <td>0.0</td>\n      <td>...</td>\n      <td>0.0</td>\n      <td>0.0</td>\n      <td>0.0</td>\n      <td>0.0</td>\n      <td>0.0</td>\n      <td>0.0</td>\n      <td>0.0</td>\n      <td>0.0</td>\n      <td>0.0</td>\n      <td>0.0</td>\n    </tr>\n    <tr>\n      <th>536852</th>\n      <td>0.0</td>\n      <td>0.0</td>\n      <td>0.0</td>\n      <td>0.0</td>\n      <td>0.0</td>\n      <td>0.0</td>\n      <td>0.0</td>\n      <td>0.0</td>\n      <td>0.0</td>\n      <td>0.0</td>\n      <td>...</td>\n      <td>0.0</td>\n      <td>0.0</td>\n      <td>0.0</td>\n      <td>0.0</td>\n      <td>0.0</td>\n      <td>0.0</td>\n      <td>0.0</td>\n      <td>0.0</td>\n      <td>0.0</td>\n      <td>0.0</td>\n    </tr>\n    <tr>\n      <th>536974</th>\n      <td>0.0</td>\n      <td>0.0</td>\n      <td>0.0</td>\n      <td>0.0</td>\n      <td>0.0</td>\n      <td>0.0</td>\n      <td>0.0</td>\n      <td>0.0</td>\n      <td>0.0</td>\n      <td>0.0</td>\n      <td>...</td>\n      <td>0.0</td>\n      <td>0.0</td>\n      <td>0.0</td>\n      <td>0.0</td>\n      <td>0.0</td>\n      <td>0.0</td>\n      <td>0.0</td>\n      <td>0.0</td>\n      <td>0.0</td>\n      <td>0.0</td>\n    </tr>\n    <tr>\n      <th>537065</th>\n      <td>0.0</td>\n      <td>0.0</td>\n      <td>0.0</td>\n      <td>0.0</td>\n      <td>0.0</td>\n      <td>0.0</td>\n      <td>0.0</td>\n      <td>0.0</td>\n      <td>0.0</td>\n      <td>0.0</td>\n      <td>...</td>\n      <td>0.0</td>\n      <td>0.0</td>\n      <td>0.0</td>\n      <td>0.0</td>\n      <td>0.0</td>\n      <td>0.0</td>\n      <td>0.0</td>\n      <td>0.0</td>\n      <td>0.0</td>\n      <td>0.0</td>\n    </tr>\n    <tr>\n      <th>537463</th>\n      <td>0.0</td>\n      <td>0.0</td>\n      <td>0.0</td>\n      <td>0.0</td>\n      <td>0.0</td>\n      <td>0.0</td>\n      <td>0.0</td>\n      <td>0.0</td>\n      <td>0.0</td>\n      <td>0.0</td>\n      <td>...</td>\n      <td>0.0</td>\n      <td>0.0</td>\n      <td>0.0</td>\n      <td>0.0</td>\n      <td>0.0</td>\n      <td>0.0</td>\n      <td>0.0</td>\n      <td>0.0</td>\n      <td>0.0</td>\n      <td>0.0</td>\n    </tr>\n    <tr>\n      <th>537468</th>\n      <td>24.0</td>\n      <td>0.0</td>\n      <td>0.0</td>\n      <td>0.0</td>\n      <td>0.0</td>\n      <td>0.0</td>\n      <td>0.0</td>\n      <td>0.0</td>\n      <td>0.0</td>\n      <td>0.0</td>\n      <td>...</td>\n      <td>0.0</td>\n      <td>0.0</td>\n      <td>0.0</td>\n      <td>0.0</td>\n      <td>0.0</td>\n      <td>0.0</td>\n      <td>0.0</td>\n      <td>0.0</td>\n      <td>0.0</td>\n      <td>0.0</td>\n    </tr>\n    <tr>\n      <th>537693</th>\n      <td>0.0</td>\n      <td>0.0</td>\n      <td>0.0</td>\n      <td>0.0</td>\n      <td>0.0</td>\n      <td>0.0</td>\n      <td>0.0</td>\n      <td>0.0</td>\n      <td>0.0</td>\n      <td>0.0</td>\n      <td>...</td>\n      <td>0.0</td>\n      <td>0.0</td>\n      <td>0.0</td>\n      <td>0.0</td>\n      <td>0.0</td>\n      <td>0.0</td>\n      <td>0.0</td>\n      <td>0.0</td>\n      <td>0.0</td>\n      <td>0.0</td>\n    </tr>\n    <tr>\n      <th>537897</th>\n      <td>0.0</td>\n      <td>0.0</td>\n      <td>0.0</td>\n      <td>0.0</td>\n      <td>0.0</td>\n      <td>0.0</td>\n      <td>0.0</td>\n      <td>0.0</td>\n      <td>0.0</td>\n      <td>0.0</td>\n      <td>...</td>\n      <td>0.0</td>\n      <td>0.0</td>\n      <td>0.0</td>\n      <td>0.0</td>\n      <td>0.0</td>\n      <td>0.0</td>\n      <td>0.0</td>\n      <td>0.0</td>\n      <td>0.0</td>\n      <td>0.0</td>\n    </tr>\n    <tr>\n      <th>537967</th>\n      <td>0.0</td>\n      <td>0.0</td>\n      <td>0.0</td>\n      <td>0.0</td>\n      <td>0.0</td>\n      <td>0.0</td>\n      <td>0.0</td>\n      <td>0.0</td>\n      <td>0.0</td>\n      <td>0.0</td>\n      <td>...</td>\n      <td>0.0</td>\n      <td>0.0</td>\n      <td>0.0</td>\n      <td>0.0</td>\n      <td>0.0</td>\n      <td>0.0</td>\n      <td>0.0</td>\n      <td>0.0</td>\n      <td>0.0</td>\n      <td>0.0</td>\n    </tr>\n    <tr>\n      <th>538008</th>\n      <td>0.0</td>\n      <td>0.0</td>\n      <td>0.0</td>\n      <td>0.0</td>\n      <td>0.0</td>\n      <td>0.0</td>\n      <td>0.0</td>\n      <td>0.0</td>\n      <td>0.0</td>\n      <td>0.0</td>\n      <td>...</td>\n      <td>0.0</td>\n      <td>0.0</td>\n      <td>0.0</td>\n      <td>0.0</td>\n      <td>0.0</td>\n      <td>0.0</td>\n      <td>0.0</td>\n      <td>0.0</td>\n      <td>0.0</td>\n      <td>0.0</td>\n    </tr>\n  </tbody>\n</table>\n<p>10 rows × 1564 columns</p>\n</div>"
     },
     "metadata": {},
     "execution_count": 17
    }
   ],
   "source": [
    "basket.head(10)"
   ]
  },
  {
   "cell_type": "code",
   "execution_count": 18,
   "metadata": {},
   "outputs": [],
   "source": [
    "# I don't want the sum, just the binary relationship\n",
    "def encode_units(x):\n",
    "    if x <= 0:\n",
    "        return 0\n",
    "    if x >= 1:\n",
    "        return 1\n",
    "\n",
    "basket_sets = basket.applymap(encode_units)\n",
    "basket_sets.drop('POSTAGE', inplace=True, axis=1)"
   ]
  },
  {
   "cell_type": "code",
   "execution_count": 19,
   "metadata": {},
   "outputs": [
    {
     "output_type": "execute_result",
     "data": {
      "text/plain": [
       "Description  10 COLOUR SPACEBOY PEN  12 COLOURED PARTY BALLOONS  \\\n",
       "OrderID                                                           \n",
       "536370                            0                           0   \n",
       "536852                            0                           0   \n",
       "536974                            0                           0   \n",
       "537065                            0                           0   \n",
       "537463                            0                           0   \n",
       "537468                            1                           0   \n",
       "537693                            0                           0   \n",
       "537897                            0                           0   \n",
       "537967                            0                           0   \n",
       "538008                            0                           0   \n",
       "\n",
       "Description  12 EGG HOUSE PAINTED WOOD  12 MESSAGE CARDS WITH ENVELOPES  \\\n",
       "OrderID                                                                   \n",
       "536370                               0                                0   \n",
       "536852                               0                                0   \n",
       "536974                               0                                0   \n",
       "537065                               0                                0   \n",
       "537463                               0                                0   \n",
       "537468                               0                                0   \n",
       "537693                               0                                0   \n",
       "537897                               0                                0   \n",
       "537967                               0                                0   \n",
       "538008                               0                                0   \n",
       "\n",
       "Description  12 PENCIL SMALL TUBE WOODLAND  \\\n",
       "OrderID                                      \n",
       "536370                                   0   \n",
       "536852                                   0   \n",
       "536974                                   0   \n",
       "537065                                   0   \n",
       "537463                                   0   \n",
       "537468                                   0   \n",
       "537693                                   0   \n",
       "537897                                   0   \n",
       "537967                                   0   \n",
       "538008                                   0   \n",
       "\n",
       "Description  12 PENCILS SMALL TUBE RED RETROSPOT  12 PENCILS SMALL TUBE SKULL  \\\n",
       "OrderID                                                                         \n",
       "536370                                         0                            0   \n",
       "536852                                         0                            0   \n",
       "536974                                         0                            0   \n",
       "537065                                         0                            0   \n",
       "537463                                         0                            0   \n",
       "537468                                         0                            0   \n",
       "537693                                         0                            0   \n",
       "537897                                         0                            0   \n",
       "537967                                         0                            0   \n",
       "538008                                         0                            0   \n",
       "\n",
       "Description  12 PENCILS TALL TUBE POSY  12 PENCILS TALL TUBE RED RETROSPOT  \\\n",
       "OrderID                                                                      \n",
       "536370                               0                                   0   \n",
       "536852                               0                                   0   \n",
       "536974                               0                                   0   \n",
       "537065                               0                                   0   \n",
       "537463                               0                                   0   \n",
       "537468                               0                                   0   \n",
       "537693                               0                                   0   \n",
       "537897                               0                                   0   \n",
       "537967                               0                                   0   \n",
       "538008                               0                                   0   \n",
       "\n",
       "Description  12 PENCILS TALL TUBE WOODLAND  ...  WRAP VINTAGE PETALS  DESIGN  \\\n",
       "OrderID                                     ...                                \n",
       "536370                                   0  ...                            0   \n",
       "536852                                   0  ...                            0   \n",
       "536974                                   0  ...                            0   \n",
       "537065                                   0  ...                            0   \n",
       "537463                                   0  ...                            0   \n",
       "537468                                   0  ...                            0   \n",
       "537693                                   0  ...                            0   \n",
       "537897                                   0  ...                            0   \n",
       "537967                                   0  ...                            0   \n",
       "538008                                   0  ...                            0   \n",
       "\n",
       "Description  YELLOW COAT RACK PARIS FASHION  YELLOW GIANT GARDEN THERMOMETER  \\\n",
       "OrderID                                                                        \n",
       "536370                                    0                                0   \n",
       "536852                                    0                                0   \n",
       "536974                                    0                                0   \n",
       "537065                                    0                                0   \n",
       "537463                                    0                                0   \n",
       "537468                                    0                                0   \n",
       "537693                                    0                                0   \n",
       "537897                                    0                                0   \n",
       "537967                                    0                                0   \n",
       "538008                                    0                                0   \n",
       "\n",
       "Description  YELLOW SHARK HELICOPTER  ZINC  STAR T-LIGHT HOLDER  \\\n",
       "OrderID                                                           \n",
       "536370                             0                          0   \n",
       "536852                             0                          0   \n",
       "536974                             0                          0   \n",
       "537065                             0                          0   \n",
       "537463                             0                          0   \n",
       "537468                             0                          0   \n",
       "537693                             0                          0   \n",
       "537897                             0                          0   \n",
       "537967                             0                          0   \n",
       "538008                             0                          0   \n",
       "\n",
       "Description  ZINC FOLKART SLEIGH BELLS  ZINC HERB GARDEN CONTAINER  \\\n",
       "OrderID                                                              \n",
       "536370                               0                           0   \n",
       "536852                               0                           0   \n",
       "536974                               0                           0   \n",
       "537065                               0                           0   \n",
       "537463                               0                           0   \n",
       "537468                               0                           0   \n",
       "537693                               0                           0   \n",
       "537897                               0                           0   \n",
       "537967                               0                           0   \n",
       "538008                               0                           0   \n",
       "\n",
       "Description  ZINC METAL HEART DECORATION  ZINC T-LIGHT HOLDER STAR LARGE  \\\n",
       "OrderID                                                                    \n",
       "536370                                 0                               0   \n",
       "536852                                 0                               0   \n",
       "536974                                 0                               0   \n",
       "537065                                 0                               0   \n",
       "537463                                 0                               0   \n",
       "537468                                 0                               0   \n",
       "537693                                 0                               0   \n",
       "537897                                 0                               0   \n",
       "537967                                 0                               0   \n",
       "538008                                 0                               0   \n",
       "\n",
       "Description  ZINC T-LIGHT HOLDER STARS SMALL  \n",
       "OrderID                                       \n",
       "536370                                     0  \n",
       "536852                                     0  \n",
       "536974                                     0  \n",
       "537065                                     0  \n",
       "537463                                     0  \n",
       "537468                                     0  \n",
       "537693                                     0  \n",
       "537897                                     0  \n",
       "537967                                     0  \n",
       "538008                                     0  \n",
       "\n",
       "[10 rows x 1563 columns]"
      ],
      "text/html": "<div>\n<style scoped>\n    .dataframe tbody tr th:only-of-type {\n        vertical-align: middle;\n    }\n\n    .dataframe tbody tr th {\n        vertical-align: top;\n    }\n\n    .dataframe thead th {\n        text-align: right;\n    }\n</style>\n<table border=\"1\" class=\"dataframe\">\n  <thead>\n    <tr style=\"text-align: right;\">\n      <th>Description</th>\n      <th>10 COLOUR SPACEBOY PEN</th>\n      <th>12 COLOURED PARTY BALLOONS</th>\n      <th>12 EGG HOUSE PAINTED WOOD</th>\n      <th>12 MESSAGE CARDS WITH ENVELOPES</th>\n      <th>12 PENCIL SMALL TUBE WOODLAND</th>\n      <th>12 PENCILS SMALL TUBE RED RETROSPOT</th>\n      <th>12 PENCILS SMALL TUBE SKULL</th>\n      <th>12 PENCILS TALL TUBE POSY</th>\n      <th>12 PENCILS TALL TUBE RED RETROSPOT</th>\n      <th>12 PENCILS TALL TUBE WOODLAND</th>\n      <th>...</th>\n      <th>WRAP VINTAGE PETALS  DESIGN</th>\n      <th>YELLOW COAT RACK PARIS FASHION</th>\n      <th>YELLOW GIANT GARDEN THERMOMETER</th>\n      <th>YELLOW SHARK HELICOPTER</th>\n      <th>ZINC  STAR T-LIGHT HOLDER</th>\n      <th>ZINC FOLKART SLEIGH BELLS</th>\n      <th>ZINC HERB GARDEN CONTAINER</th>\n      <th>ZINC METAL HEART DECORATION</th>\n      <th>ZINC T-LIGHT HOLDER STAR LARGE</th>\n      <th>ZINC T-LIGHT HOLDER STARS SMALL</th>\n    </tr>\n    <tr>\n      <th>OrderID</th>\n      <th></th>\n      <th></th>\n      <th></th>\n      <th></th>\n      <th></th>\n      <th></th>\n      <th></th>\n      <th></th>\n      <th></th>\n      <th></th>\n      <th></th>\n      <th></th>\n      <th></th>\n      <th></th>\n      <th></th>\n      <th></th>\n      <th></th>\n      <th></th>\n      <th></th>\n      <th></th>\n      <th></th>\n    </tr>\n  </thead>\n  <tbody>\n    <tr>\n      <th>536370</th>\n      <td>0</td>\n      <td>0</td>\n      <td>0</td>\n      <td>0</td>\n      <td>0</td>\n      <td>0</td>\n      <td>0</td>\n      <td>0</td>\n      <td>0</td>\n      <td>0</td>\n      <td>...</td>\n      <td>0</td>\n      <td>0</td>\n      <td>0</td>\n      <td>0</td>\n      <td>0</td>\n      <td>0</td>\n      <td>0</td>\n      <td>0</td>\n      <td>0</td>\n      <td>0</td>\n    </tr>\n    <tr>\n      <th>536852</th>\n      <td>0</td>\n      <td>0</td>\n      <td>0</td>\n      <td>0</td>\n      <td>0</td>\n      <td>0</td>\n      <td>0</td>\n      <td>0</td>\n      <td>0</td>\n      <td>0</td>\n      <td>...</td>\n      <td>0</td>\n      <td>0</td>\n      <td>0</td>\n      <td>0</td>\n      <td>0</td>\n      <td>0</td>\n      <td>0</td>\n      <td>0</td>\n      <td>0</td>\n      <td>0</td>\n    </tr>\n    <tr>\n      <th>536974</th>\n      <td>0</td>\n      <td>0</td>\n      <td>0</td>\n      <td>0</td>\n      <td>0</td>\n      <td>0</td>\n      <td>0</td>\n      <td>0</td>\n      <td>0</td>\n      <td>0</td>\n      <td>...</td>\n      <td>0</td>\n      <td>0</td>\n      <td>0</td>\n      <td>0</td>\n      <td>0</td>\n      <td>0</td>\n      <td>0</td>\n      <td>0</td>\n      <td>0</td>\n      <td>0</td>\n    </tr>\n    <tr>\n      <th>537065</th>\n      <td>0</td>\n      <td>0</td>\n      <td>0</td>\n      <td>0</td>\n      <td>0</td>\n      <td>0</td>\n      <td>0</td>\n      <td>0</td>\n      <td>0</td>\n      <td>0</td>\n      <td>...</td>\n      <td>0</td>\n      <td>0</td>\n      <td>0</td>\n      <td>0</td>\n      <td>0</td>\n      <td>0</td>\n      <td>0</td>\n      <td>0</td>\n      <td>0</td>\n      <td>0</td>\n    </tr>\n    <tr>\n      <th>537463</th>\n      <td>0</td>\n      <td>0</td>\n      <td>0</td>\n      <td>0</td>\n      <td>0</td>\n      <td>0</td>\n      <td>0</td>\n      <td>0</td>\n      <td>0</td>\n      <td>0</td>\n      <td>...</td>\n      <td>0</td>\n      <td>0</td>\n      <td>0</td>\n      <td>0</td>\n      <td>0</td>\n      <td>0</td>\n      <td>0</td>\n      <td>0</td>\n      <td>0</td>\n      <td>0</td>\n    </tr>\n    <tr>\n      <th>537468</th>\n      <td>1</td>\n      <td>0</td>\n      <td>0</td>\n      <td>0</td>\n      <td>0</td>\n      <td>0</td>\n      <td>0</td>\n      <td>0</td>\n      <td>0</td>\n      <td>0</td>\n      <td>...</td>\n      <td>0</td>\n      <td>0</td>\n      <td>0</td>\n      <td>0</td>\n      <td>0</td>\n      <td>0</td>\n      <td>0</td>\n      <td>0</td>\n      <td>0</td>\n      <td>0</td>\n    </tr>\n    <tr>\n      <th>537693</th>\n      <td>0</td>\n      <td>0</td>\n      <td>0</td>\n      <td>0</td>\n      <td>0</td>\n      <td>0</td>\n      <td>0</td>\n      <td>0</td>\n      <td>0</td>\n      <td>0</td>\n      <td>...</td>\n      <td>0</td>\n      <td>0</td>\n      <td>0</td>\n      <td>0</td>\n      <td>0</td>\n      <td>0</td>\n      <td>0</td>\n      <td>0</td>\n      <td>0</td>\n      <td>0</td>\n    </tr>\n    <tr>\n      <th>537897</th>\n      <td>0</td>\n      <td>0</td>\n      <td>0</td>\n      <td>0</td>\n      <td>0</td>\n      <td>0</td>\n      <td>0</td>\n      <td>0</td>\n      <td>0</td>\n      <td>0</td>\n      <td>...</td>\n      <td>0</td>\n      <td>0</td>\n      <td>0</td>\n      <td>0</td>\n      <td>0</td>\n      <td>0</td>\n      <td>0</td>\n      <td>0</td>\n      <td>0</td>\n      <td>0</td>\n    </tr>\n    <tr>\n      <th>537967</th>\n      <td>0</td>\n      <td>0</td>\n      <td>0</td>\n      <td>0</td>\n      <td>0</td>\n      <td>0</td>\n      <td>0</td>\n      <td>0</td>\n      <td>0</td>\n      <td>0</td>\n      <td>...</td>\n      <td>0</td>\n      <td>0</td>\n      <td>0</td>\n      <td>0</td>\n      <td>0</td>\n      <td>0</td>\n      <td>0</td>\n      <td>0</td>\n      <td>0</td>\n      <td>0</td>\n    </tr>\n    <tr>\n      <th>538008</th>\n      <td>0</td>\n      <td>0</td>\n      <td>0</td>\n      <td>0</td>\n      <td>0</td>\n      <td>0</td>\n      <td>0</td>\n      <td>0</td>\n      <td>0</td>\n      <td>0</td>\n      <td>...</td>\n      <td>0</td>\n      <td>0</td>\n      <td>0</td>\n      <td>0</td>\n      <td>0</td>\n      <td>0</td>\n      <td>0</td>\n      <td>0</td>\n      <td>0</td>\n      <td>0</td>\n    </tr>\n  </tbody>\n</table>\n<p>10 rows × 1563 columns</p>\n</div>"
     },
     "metadata": {},
     "execution_count": 19
    }
   ],
   "source": [
    "basket_sets.head(10)"
   ]
  },
  {
   "cell_type": "markdown",
   "metadata": {},
   "source": [
    "## 3. Associations rules"
   ]
  },
  {
   "cell_type": "code",
   "execution_count": 20,
   "metadata": {},
   "outputs": [
    {
     "output_type": "stream",
     "name": "stdout",
     "text": [
      "CPU times: user 23.1 ms, sys: 296 µs, total: 23.4 ms\nWall time: 35.5 ms\n"
     ]
    }
   ],
   "source": [
    "%%time\n",
    "frequent_itemsets = apriori(basket_sets, min_support=0.07, use_colnames=True)"
   ]
  },
  {
   "cell_type": "code",
   "execution_count": 21,
   "metadata": {},
   "outputs": [
    {
     "output_type": "execute_result",
     "data": {
      "text/plain": [
       "     support                            itemsets\n",
       "0   0.082430        (ALARM CLOCK BAKELIKE GREEN)\n",
       "1   0.086768         (ALARM CLOCK BAKELIKE PINK)\n",
       "2   0.080260          (ALARM CLOCK BAKELIKE RED)\n",
       "3   0.084599              (DOLLY GIRL LUNCH BOX)\n",
       "4   0.082430           (JUMBO BAG RED RETROSPOT)\n",
       "5   0.106291            (LUNCH BAG APPLE DESIGN)\n",
       "6   0.071584       (LUNCH BAG DOLLY GIRL DESIGN)\n",
       "7   0.130152           (LUNCH BAG RED RETROSPOT)\n",
       "8   0.101952         (LUNCH BAG SPACEBOY DESIGN)\n",
       "9   0.099783                (LUNCH BAG WOODLAND)\n",
       "10  0.121475  (LUNCH BOX WITH CUTLERY RETROSPOT)\n",
       "11  0.088937            (MINI PAINT SET VINTAGE)\n",
       "12  0.086768   (PACK OF 72 RETROSPOT CAKE CASES)\n",
       "13  0.143167     (PLASTERS IN TIN CIRCUS PARADE)\n",
       "14  0.117137          (PLASTERS IN TIN SPACEBOY)\n",
       "15  0.145336  (PLASTERS IN TIN WOODLAND ANIMALS)\n",
       "16  0.160521                (RABBIT NIGHT LIGHT)\n",
       "17  0.082430       (RED RETROSPOT CHARLOTTE BAG)\n",
       "18  0.117137          (RED RETROSPOT MINI CASES)\n",
       "19  0.154013     (RED TOADSTOOL LED NIGHT LIGHT)"
      ],
      "text/html": "<div>\n<style scoped>\n    .dataframe tbody tr th:only-of-type {\n        vertical-align: middle;\n    }\n\n    .dataframe tbody tr th {\n        vertical-align: top;\n    }\n\n    .dataframe thead th {\n        text-align: right;\n    }\n</style>\n<table border=\"1\" class=\"dataframe\">\n  <thead>\n    <tr style=\"text-align: right;\">\n      <th></th>\n      <th>support</th>\n      <th>itemsets</th>\n    </tr>\n  </thead>\n  <tbody>\n    <tr>\n      <th>0</th>\n      <td>0.082430</td>\n      <td>(ALARM CLOCK BAKELIKE GREEN)</td>\n    </tr>\n    <tr>\n      <th>1</th>\n      <td>0.086768</td>\n      <td>(ALARM CLOCK BAKELIKE PINK)</td>\n    </tr>\n    <tr>\n      <th>2</th>\n      <td>0.080260</td>\n      <td>(ALARM CLOCK BAKELIKE RED)</td>\n    </tr>\n    <tr>\n      <th>3</th>\n      <td>0.084599</td>\n      <td>(DOLLY GIRL LUNCH BOX)</td>\n    </tr>\n    <tr>\n      <th>4</th>\n      <td>0.082430</td>\n      <td>(JUMBO BAG RED RETROSPOT)</td>\n    </tr>\n    <tr>\n      <th>5</th>\n      <td>0.106291</td>\n      <td>(LUNCH BAG APPLE DESIGN)</td>\n    </tr>\n    <tr>\n      <th>6</th>\n      <td>0.071584</td>\n      <td>(LUNCH BAG DOLLY GIRL DESIGN)</td>\n    </tr>\n    <tr>\n      <th>7</th>\n      <td>0.130152</td>\n      <td>(LUNCH BAG RED RETROSPOT)</td>\n    </tr>\n    <tr>\n      <th>8</th>\n      <td>0.101952</td>\n      <td>(LUNCH BAG SPACEBOY DESIGN)</td>\n    </tr>\n    <tr>\n      <th>9</th>\n      <td>0.099783</td>\n      <td>(LUNCH BAG WOODLAND)</td>\n    </tr>\n    <tr>\n      <th>10</th>\n      <td>0.121475</td>\n      <td>(LUNCH BOX WITH CUTLERY RETROSPOT)</td>\n    </tr>\n    <tr>\n      <th>11</th>\n      <td>0.088937</td>\n      <td>(MINI PAINT SET VINTAGE)</td>\n    </tr>\n    <tr>\n      <th>12</th>\n      <td>0.086768</td>\n      <td>(PACK OF 72 RETROSPOT CAKE CASES)</td>\n    </tr>\n    <tr>\n      <th>13</th>\n      <td>0.143167</td>\n      <td>(PLASTERS IN TIN CIRCUS PARADE)</td>\n    </tr>\n    <tr>\n      <th>14</th>\n      <td>0.117137</td>\n      <td>(PLASTERS IN TIN SPACEBOY)</td>\n    </tr>\n    <tr>\n      <th>15</th>\n      <td>0.145336</td>\n      <td>(PLASTERS IN TIN WOODLAND ANIMALS)</td>\n    </tr>\n    <tr>\n      <th>16</th>\n      <td>0.160521</td>\n      <td>(RABBIT NIGHT LIGHT)</td>\n    </tr>\n    <tr>\n      <th>17</th>\n      <td>0.082430</td>\n      <td>(RED RETROSPOT CHARLOTTE BAG)</td>\n    </tr>\n    <tr>\n      <th>18</th>\n      <td>0.117137</td>\n      <td>(RED RETROSPOT MINI CASES)</td>\n    </tr>\n    <tr>\n      <th>19</th>\n      <td>0.154013</td>\n      <td>(RED TOADSTOOL LED NIGHT LIGHT)</td>\n    </tr>\n  </tbody>\n</table>\n</div>"
     },
     "metadata": {},
     "execution_count": 21
    }
   ],
   "source": [
    "frequent_itemsets.head(20)"
   ]
  },
  {
   "cell_type": "code",
   "execution_count": 22,
   "metadata": {},
   "outputs": [
    {
     "output_type": "execute_result",
     "data": {
      "text/plain": [
       "     support                                           itemsets\n",
       "16  0.160521                               (RABBIT NIGHT LIGHT)\n",
       "19  0.154013                    (RED TOADSTOOL LED NIGHT LIGHT)\n",
       "15  0.145336                 (PLASTERS IN TIN WOODLAND ANIMALS)\n",
       "13  0.143167                    (PLASTERS IN TIN CIRCUS PARADE)\n",
       "23  0.134490               (ROUND SNACK BOXES SET OF4 WOODLAND)\n",
       "7   0.130152                          (LUNCH BAG RED RETROSPOT)\n",
       "10  0.121475                 (LUNCH BOX WITH CUTLERY RETROSPOT)\n",
       "25  0.117137                      (SET/6 RED SPOTTY PAPER CUPS)\n",
       "14  0.117137                         (PLASTERS IN TIN SPACEBOY)\n",
       "18  0.117137                         (RED RETROSPOT MINI CASES)\n",
       "24  0.112798               (SET/20 RED RETROSPOT PAPER NAPKINS)\n",
       "26  0.108460                    (SET/6 RED SPOTTY PAPER PLATES)\n",
       "20  0.106291                         (REGENCY CAKESTAND 3 TIER)\n",
       "27  0.106291                               (SPACEBOY LUNCH BOX)\n",
       "5   0.106291                           (LUNCH BAG APPLE DESIGN)\n",
       "35  0.104121  (SET/6 RED SPOTTY PAPER CUPS, SET/6 RED SPOTTY...\n",
       "28  0.104121                (STRAWBERRY LUNCH BOX WITH CUTLERY)\n",
       "8   0.101952                        (LUNCH BAG SPACEBOY DESIGN)\n",
       "9   0.099783                               (LUNCH BAG WOODLAND)\n",
       "22  0.091106                (ROUND SNACK BOXES SET OF 4 FRUITS)\n",
       "11  0.088937                           (MINI PAINT SET VINTAGE)\n",
       "32  0.088937  (PLASTERS IN TIN SPACEBOY, PLASTERS IN TIN WOO...\n",
       "33  0.086768  (SET/6 RED SPOTTY PAPER CUPS, SET/20 RED RETRO...\n",
       "31  0.086768  (PLASTERS IN TIN CIRCUS PARADE, PLASTERS IN TI...\n",
       "34  0.086768  (SET/6 RED SPOTTY PAPER PLATES, SET/20 RED RET...\n",
       "12  0.086768                  (PACK OF 72 RETROSPOT CAKE CASES)\n",
       "1   0.086768                        (ALARM CLOCK BAKELIKE PINK)\n",
       "36  0.084599  (SET/6 RED SPOTTY PAPER CUPS, SET/6 RED SPOTTY...\n",
       "3   0.084599                             (DOLLY GIRL LUNCH BOX)\n",
       "17  0.082430                      (RED RETROSPOT CHARLOTTE BAG)\n",
       "4   0.082430                          (JUMBO BAG RED RETROSPOT)\n",
       "0   0.082430                       (ALARM CLOCK BAKELIKE GREEN)\n",
       "29  0.080260                          (TEA PARTY BIRTHDAY CARD)\n",
       "2   0.080260                         (ALARM CLOCK BAKELIKE RED)\n",
       "30  0.075922  (PLASTERS IN TIN SPACEBOY, PLASTERS IN TIN CIR...\n",
       "21  0.073753                  (RETROSPOT TEA SET CERAMIC 11 PC)\n",
       "6   0.071584                      (LUNCH BAG DOLLY GIRL DESIGN)"
      ],
      "text/html": "<div>\n<style scoped>\n    .dataframe tbody tr th:only-of-type {\n        vertical-align: middle;\n    }\n\n    .dataframe tbody tr th {\n        vertical-align: top;\n    }\n\n    .dataframe thead th {\n        text-align: right;\n    }\n</style>\n<table border=\"1\" class=\"dataframe\">\n  <thead>\n    <tr style=\"text-align: right;\">\n      <th></th>\n      <th>support</th>\n      <th>itemsets</th>\n    </tr>\n  </thead>\n  <tbody>\n    <tr>\n      <th>16</th>\n      <td>0.160521</td>\n      <td>(RABBIT NIGHT LIGHT)</td>\n    </tr>\n    <tr>\n      <th>19</th>\n      <td>0.154013</td>\n      <td>(RED TOADSTOOL LED NIGHT LIGHT)</td>\n    </tr>\n    <tr>\n      <th>15</th>\n      <td>0.145336</td>\n      <td>(PLASTERS IN TIN WOODLAND ANIMALS)</td>\n    </tr>\n    <tr>\n      <th>13</th>\n      <td>0.143167</td>\n      <td>(PLASTERS IN TIN CIRCUS PARADE)</td>\n    </tr>\n    <tr>\n      <th>23</th>\n      <td>0.134490</td>\n      <td>(ROUND SNACK BOXES SET OF4 WOODLAND)</td>\n    </tr>\n    <tr>\n      <th>7</th>\n      <td>0.130152</td>\n      <td>(LUNCH BAG RED RETROSPOT)</td>\n    </tr>\n    <tr>\n      <th>10</th>\n      <td>0.121475</td>\n      <td>(LUNCH BOX WITH CUTLERY RETROSPOT)</td>\n    </tr>\n    <tr>\n      <th>25</th>\n      <td>0.117137</td>\n      <td>(SET/6 RED SPOTTY PAPER CUPS)</td>\n    </tr>\n    <tr>\n      <th>14</th>\n      <td>0.117137</td>\n      <td>(PLASTERS IN TIN SPACEBOY)</td>\n    </tr>\n    <tr>\n      <th>18</th>\n      <td>0.117137</td>\n      <td>(RED RETROSPOT MINI CASES)</td>\n    </tr>\n    <tr>\n      <th>24</th>\n      <td>0.112798</td>\n      <td>(SET/20 RED RETROSPOT PAPER NAPKINS)</td>\n    </tr>\n    <tr>\n      <th>26</th>\n      <td>0.108460</td>\n      <td>(SET/6 RED SPOTTY PAPER PLATES)</td>\n    </tr>\n    <tr>\n      <th>20</th>\n      <td>0.106291</td>\n      <td>(REGENCY CAKESTAND 3 TIER)</td>\n    </tr>\n    <tr>\n      <th>27</th>\n      <td>0.106291</td>\n      <td>(SPACEBOY LUNCH BOX)</td>\n    </tr>\n    <tr>\n      <th>5</th>\n      <td>0.106291</td>\n      <td>(LUNCH BAG APPLE DESIGN)</td>\n    </tr>\n    <tr>\n      <th>35</th>\n      <td>0.104121</td>\n      <td>(SET/6 RED SPOTTY PAPER CUPS, SET/6 RED SPOTTY...</td>\n    </tr>\n    <tr>\n      <th>28</th>\n      <td>0.104121</td>\n      <td>(STRAWBERRY LUNCH BOX WITH CUTLERY)</td>\n    </tr>\n    <tr>\n      <th>8</th>\n      <td>0.101952</td>\n      <td>(LUNCH BAG SPACEBOY DESIGN)</td>\n    </tr>\n    <tr>\n      <th>9</th>\n      <td>0.099783</td>\n      <td>(LUNCH BAG WOODLAND)</td>\n    </tr>\n    <tr>\n      <th>22</th>\n      <td>0.091106</td>\n      <td>(ROUND SNACK BOXES SET OF 4 FRUITS)</td>\n    </tr>\n    <tr>\n      <th>11</th>\n      <td>0.088937</td>\n      <td>(MINI PAINT SET VINTAGE)</td>\n    </tr>\n    <tr>\n      <th>32</th>\n      <td>0.088937</td>\n      <td>(PLASTERS IN TIN SPACEBOY, PLASTERS IN TIN WOO...</td>\n    </tr>\n    <tr>\n      <th>33</th>\n      <td>0.086768</td>\n      <td>(SET/6 RED SPOTTY PAPER CUPS, SET/20 RED RETRO...</td>\n    </tr>\n    <tr>\n      <th>31</th>\n      <td>0.086768</td>\n      <td>(PLASTERS IN TIN CIRCUS PARADE, PLASTERS IN TI...</td>\n    </tr>\n    <tr>\n      <th>34</th>\n      <td>0.086768</td>\n      <td>(SET/6 RED SPOTTY PAPER PLATES, SET/20 RED RET...</td>\n    </tr>\n    <tr>\n      <th>12</th>\n      <td>0.086768</td>\n      <td>(PACK OF 72 RETROSPOT CAKE CASES)</td>\n    </tr>\n    <tr>\n      <th>1</th>\n      <td>0.086768</td>\n      <td>(ALARM CLOCK BAKELIKE PINK)</td>\n    </tr>\n    <tr>\n      <th>36</th>\n      <td>0.084599</td>\n      <td>(SET/6 RED SPOTTY PAPER CUPS, SET/6 RED SPOTTY...</td>\n    </tr>\n    <tr>\n      <th>3</th>\n      <td>0.084599</td>\n      <td>(DOLLY GIRL LUNCH BOX)</td>\n    </tr>\n    <tr>\n      <th>17</th>\n      <td>0.082430</td>\n      <td>(RED RETROSPOT CHARLOTTE BAG)</td>\n    </tr>\n    <tr>\n      <th>4</th>\n      <td>0.082430</td>\n      <td>(JUMBO BAG RED RETROSPOT)</td>\n    </tr>\n    <tr>\n      <th>0</th>\n      <td>0.082430</td>\n      <td>(ALARM CLOCK BAKELIKE GREEN)</td>\n    </tr>\n    <tr>\n      <th>29</th>\n      <td>0.080260</td>\n      <td>(TEA PARTY BIRTHDAY CARD)</td>\n    </tr>\n    <tr>\n      <th>2</th>\n      <td>0.080260</td>\n      <td>(ALARM CLOCK BAKELIKE RED)</td>\n    </tr>\n    <tr>\n      <th>30</th>\n      <td>0.075922</td>\n      <td>(PLASTERS IN TIN SPACEBOY, PLASTERS IN TIN CIR...</td>\n    </tr>\n    <tr>\n      <th>21</th>\n      <td>0.073753</td>\n      <td>(RETROSPOT TEA SET CERAMIC 11 PC)</td>\n    </tr>\n    <tr>\n      <th>6</th>\n      <td>0.071584</td>\n      <td>(LUNCH BAG DOLLY GIRL DESIGN)</td>\n    </tr>\n  </tbody>\n</table>\n</div>"
     },
     "metadata": {},
     "execution_count": 22
    }
   ],
   "source": [
    "frequent_itemsets.sort_values(by = 'support',  ascending = False)"
   ]
  },
  {
   "cell_type": "code",
   "execution_count": 23,
   "metadata": {},
   "outputs": [
    {
     "output_type": "stream",
     "name": "stdout",
     "text": [
      "CPU times: user 3.9 ms, sys: 3.62 ms, total: 7.52 ms\nWall time: 6.43 ms\n"
     ]
    }
   ],
   "source": [
    "%%time\n",
    "rules = association_rules(frequent_itemsets, metric=\"lift\", min_threshold=1)"
   ]
  },
  {
   "cell_type": "code",
   "execution_count": 24,
   "metadata": {},
   "outputs": [
    {
     "output_type": "execute_result",
     "data": {
      "text/plain": [
       "                                          antecedents  \\\n",
       "0                          (PLASTERS IN TIN SPACEBOY)   \n",
       "1                     (PLASTERS IN TIN CIRCUS PARADE)   \n",
       "2                     (PLASTERS IN TIN CIRCUS PARADE)   \n",
       "3                  (PLASTERS IN TIN WOODLAND ANIMALS)   \n",
       "4                          (PLASTERS IN TIN SPACEBOY)   \n",
       "5                  (PLASTERS IN TIN WOODLAND ANIMALS)   \n",
       "6                       (SET/6 RED SPOTTY PAPER CUPS)   \n",
       "7                (SET/20 RED RETROSPOT PAPER NAPKINS)   \n",
       "8                     (SET/6 RED SPOTTY PAPER PLATES)   \n",
       "9                (SET/20 RED RETROSPOT PAPER NAPKINS)   \n",
       "10                      (SET/6 RED SPOTTY PAPER CUPS)   \n",
       "11                    (SET/6 RED SPOTTY PAPER PLATES)   \n",
       "12  (SET/6 RED SPOTTY PAPER CUPS, SET/6 RED SPOTTY...   \n",
       "13  (SET/6 RED SPOTTY PAPER CUPS, SET/20 RED RETRO...   \n",
       "14  (SET/6 RED SPOTTY PAPER PLATES, SET/20 RED RET...   \n",
       "15                      (SET/6 RED SPOTTY PAPER CUPS)   \n",
       "16                    (SET/6 RED SPOTTY PAPER PLATES)   \n",
       "17               (SET/20 RED RETROSPOT PAPER NAPKINS)   \n",
       "\n",
       "                                          consequents  antecedent support  \\\n",
       "0                     (PLASTERS IN TIN CIRCUS PARADE)            0.117137   \n",
       "1                          (PLASTERS IN TIN SPACEBOY)            0.143167   \n",
       "2                  (PLASTERS IN TIN WOODLAND ANIMALS)            0.143167   \n",
       "3                     (PLASTERS IN TIN CIRCUS PARADE)            0.145336   \n",
       "4                  (PLASTERS IN TIN WOODLAND ANIMALS)            0.117137   \n",
       "5                          (PLASTERS IN TIN SPACEBOY)            0.145336   \n",
       "6                (SET/20 RED RETROSPOT PAPER NAPKINS)            0.117137   \n",
       "7                       (SET/6 RED SPOTTY PAPER CUPS)            0.112798   \n",
       "8                (SET/20 RED RETROSPOT PAPER NAPKINS)            0.108460   \n",
       "9                     (SET/6 RED SPOTTY PAPER PLATES)            0.112798   \n",
       "10                    (SET/6 RED SPOTTY PAPER PLATES)            0.117137   \n",
       "11                      (SET/6 RED SPOTTY PAPER CUPS)            0.108460   \n",
       "12               (SET/20 RED RETROSPOT PAPER NAPKINS)            0.104121   \n",
       "13                    (SET/6 RED SPOTTY PAPER PLATES)            0.086768   \n",
       "14                      (SET/6 RED SPOTTY PAPER CUPS)            0.086768   \n",
       "15  (SET/6 RED SPOTTY PAPER PLATES, SET/20 RED RET...            0.117137   \n",
       "16  (SET/6 RED SPOTTY PAPER CUPS, SET/20 RED RETRO...            0.108460   \n",
       "17  (SET/6 RED SPOTTY PAPER CUPS, SET/6 RED SPOTTY...            0.112798   \n",
       "\n",
       "    consequent support   support  confidence      lift  leverage  conviction  \n",
       "0             0.143167  0.075922    0.648148  4.527217  0.059152    2.435209  \n",
       "1             0.117137  0.075922    0.530303  4.527217  0.059152    1.879645  \n",
       "2             0.145336  0.086768    0.606061  4.170059  0.065961    2.169531  \n",
       "3             0.143167  0.086768    0.597015  4.170059  0.065961    2.126215  \n",
       "4             0.145336  0.088937    0.759259  5.224157  0.071913    3.550142  \n",
       "5             0.117137  0.088937    0.611940  5.224157  0.071913    2.275071  \n",
       "6             0.112798  0.086768    0.740741  6.566952  0.073555    3.422064  \n",
       "7             0.117137  0.086768    0.769231  6.566952  0.073555    3.825741  \n",
       "8             0.112798  0.086768    0.800000  7.092308  0.074534    4.436009  \n",
       "9             0.108460  0.086768    0.769231  7.092308  0.074534    3.863341  \n",
       "10            0.108460  0.104121    0.888889  8.195556  0.091417    8.023861  \n",
       "11            0.117137  0.104121    0.960000  8.195556  0.091417   22.071584  \n",
       "12            0.112798  0.084599    0.812500  7.203125  0.072854    4.731743  \n",
       "13            0.108460  0.084599    0.975000  8.989500  0.075188   35.661605  \n",
       "14            0.117137  0.084599    0.975000  8.323611  0.074435   35.314534  \n",
       "15            0.086768  0.084599    0.722222  8.323611  0.074435    3.287636  \n",
       "16            0.086768  0.084599    0.780000  8.989500  0.075188    4.151055  \n",
       "17            0.104121  0.084599    0.750000  7.203125  0.072854    3.583514  "
      ],
      "text/html": "<div>\n<style scoped>\n    .dataframe tbody tr th:only-of-type {\n        vertical-align: middle;\n    }\n\n    .dataframe tbody tr th {\n        vertical-align: top;\n    }\n\n    .dataframe thead th {\n        text-align: right;\n    }\n</style>\n<table border=\"1\" class=\"dataframe\">\n  <thead>\n    <tr style=\"text-align: right;\">\n      <th></th>\n      <th>antecedents</th>\n      <th>consequents</th>\n      <th>antecedent support</th>\n      <th>consequent support</th>\n      <th>support</th>\n      <th>confidence</th>\n      <th>lift</th>\n      <th>leverage</th>\n      <th>conviction</th>\n    </tr>\n  </thead>\n  <tbody>\n    <tr>\n      <th>0</th>\n      <td>(PLASTERS IN TIN SPACEBOY)</td>\n      <td>(PLASTERS IN TIN CIRCUS PARADE)</td>\n      <td>0.117137</td>\n      <td>0.143167</td>\n      <td>0.075922</td>\n      <td>0.648148</td>\n      <td>4.527217</td>\n      <td>0.059152</td>\n      <td>2.435209</td>\n    </tr>\n    <tr>\n      <th>1</th>\n      <td>(PLASTERS IN TIN CIRCUS PARADE)</td>\n      <td>(PLASTERS IN TIN SPACEBOY)</td>\n      <td>0.143167</td>\n      <td>0.117137</td>\n      <td>0.075922</td>\n      <td>0.530303</td>\n      <td>4.527217</td>\n      <td>0.059152</td>\n      <td>1.879645</td>\n    </tr>\n    <tr>\n      <th>2</th>\n      <td>(PLASTERS IN TIN CIRCUS PARADE)</td>\n      <td>(PLASTERS IN TIN WOODLAND ANIMALS)</td>\n      <td>0.143167</td>\n      <td>0.145336</td>\n      <td>0.086768</td>\n      <td>0.606061</td>\n      <td>4.170059</td>\n      <td>0.065961</td>\n      <td>2.169531</td>\n    </tr>\n    <tr>\n      <th>3</th>\n      <td>(PLASTERS IN TIN WOODLAND ANIMALS)</td>\n      <td>(PLASTERS IN TIN CIRCUS PARADE)</td>\n      <td>0.145336</td>\n      <td>0.143167</td>\n      <td>0.086768</td>\n      <td>0.597015</td>\n      <td>4.170059</td>\n      <td>0.065961</td>\n      <td>2.126215</td>\n    </tr>\n    <tr>\n      <th>4</th>\n      <td>(PLASTERS IN TIN SPACEBOY)</td>\n      <td>(PLASTERS IN TIN WOODLAND ANIMALS)</td>\n      <td>0.117137</td>\n      <td>0.145336</td>\n      <td>0.088937</td>\n      <td>0.759259</td>\n      <td>5.224157</td>\n      <td>0.071913</td>\n      <td>3.550142</td>\n    </tr>\n    <tr>\n      <th>5</th>\n      <td>(PLASTERS IN TIN WOODLAND ANIMALS)</td>\n      <td>(PLASTERS IN TIN SPACEBOY)</td>\n      <td>0.145336</td>\n      <td>0.117137</td>\n      <td>0.088937</td>\n      <td>0.611940</td>\n      <td>5.224157</td>\n      <td>0.071913</td>\n      <td>2.275071</td>\n    </tr>\n    <tr>\n      <th>6</th>\n      <td>(SET/6 RED SPOTTY PAPER CUPS)</td>\n      <td>(SET/20 RED RETROSPOT PAPER NAPKINS)</td>\n      <td>0.117137</td>\n      <td>0.112798</td>\n      <td>0.086768</td>\n      <td>0.740741</td>\n      <td>6.566952</td>\n      <td>0.073555</td>\n      <td>3.422064</td>\n    </tr>\n    <tr>\n      <th>7</th>\n      <td>(SET/20 RED RETROSPOT PAPER NAPKINS)</td>\n      <td>(SET/6 RED SPOTTY PAPER CUPS)</td>\n      <td>0.112798</td>\n      <td>0.117137</td>\n      <td>0.086768</td>\n      <td>0.769231</td>\n      <td>6.566952</td>\n      <td>0.073555</td>\n      <td>3.825741</td>\n    </tr>\n    <tr>\n      <th>8</th>\n      <td>(SET/6 RED SPOTTY PAPER PLATES)</td>\n      <td>(SET/20 RED RETROSPOT PAPER NAPKINS)</td>\n      <td>0.108460</td>\n      <td>0.112798</td>\n      <td>0.086768</td>\n      <td>0.800000</td>\n      <td>7.092308</td>\n      <td>0.074534</td>\n      <td>4.436009</td>\n    </tr>\n    <tr>\n      <th>9</th>\n      <td>(SET/20 RED RETROSPOT PAPER NAPKINS)</td>\n      <td>(SET/6 RED SPOTTY PAPER PLATES)</td>\n      <td>0.112798</td>\n      <td>0.108460</td>\n      <td>0.086768</td>\n      <td>0.769231</td>\n      <td>7.092308</td>\n      <td>0.074534</td>\n      <td>3.863341</td>\n    </tr>\n    <tr>\n      <th>10</th>\n      <td>(SET/6 RED SPOTTY PAPER CUPS)</td>\n      <td>(SET/6 RED SPOTTY PAPER PLATES)</td>\n      <td>0.117137</td>\n      <td>0.108460</td>\n      <td>0.104121</td>\n      <td>0.888889</td>\n      <td>8.195556</td>\n      <td>0.091417</td>\n      <td>8.023861</td>\n    </tr>\n    <tr>\n      <th>11</th>\n      <td>(SET/6 RED SPOTTY PAPER PLATES)</td>\n      <td>(SET/6 RED SPOTTY PAPER CUPS)</td>\n      <td>0.108460</td>\n      <td>0.117137</td>\n      <td>0.104121</td>\n      <td>0.960000</td>\n      <td>8.195556</td>\n      <td>0.091417</td>\n      <td>22.071584</td>\n    </tr>\n    <tr>\n      <th>12</th>\n      <td>(SET/6 RED SPOTTY PAPER CUPS, SET/6 RED SPOTTY...</td>\n      <td>(SET/20 RED RETROSPOT PAPER NAPKINS)</td>\n      <td>0.104121</td>\n      <td>0.112798</td>\n      <td>0.084599</td>\n      <td>0.812500</td>\n      <td>7.203125</td>\n      <td>0.072854</td>\n      <td>4.731743</td>\n    </tr>\n    <tr>\n      <th>13</th>\n      <td>(SET/6 RED SPOTTY PAPER CUPS, SET/20 RED RETRO...</td>\n      <td>(SET/6 RED SPOTTY PAPER PLATES)</td>\n      <td>0.086768</td>\n      <td>0.108460</td>\n      <td>0.084599</td>\n      <td>0.975000</td>\n      <td>8.989500</td>\n      <td>0.075188</td>\n      <td>35.661605</td>\n    </tr>\n    <tr>\n      <th>14</th>\n      <td>(SET/6 RED SPOTTY PAPER PLATES, SET/20 RED RET...</td>\n      <td>(SET/6 RED SPOTTY PAPER CUPS)</td>\n      <td>0.086768</td>\n      <td>0.117137</td>\n      <td>0.084599</td>\n      <td>0.975000</td>\n      <td>8.323611</td>\n      <td>0.074435</td>\n      <td>35.314534</td>\n    </tr>\n    <tr>\n      <th>15</th>\n      <td>(SET/6 RED SPOTTY PAPER CUPS)</td>\n      <td>(SET/6 RED SPOTTY PAPER PLATES, SET/20 RED RET...</td>\n      <td>0.117137</td>\n      <td>0.086768</td>\n      <td>0.084599</td>\n      <td>0.722222</td>\n      <td>8.323611</td>\n      <td>0.074435</td>\n      <td>3.287636</td>\n    </tr>\n    <tr>\n      <th>16</th>\n      <td>(SET/6 RED SPOTTY PAPER PLATES)</td>\n      <td>(SET/6 RED SPOTTY PAPER CUPS, SET/20 RED RETRO...</td>\n      <td>0.108460</td>\n      <td>0.086768</td>\n      <td>0.084599</td>\n      <td>0.780000</td>\n      <td>8.989500</td>\n      <td>0.075188</td>\n      <td>4.151055</td>\n    </tr>\n    <tr>\n      <th>17</th>\n      <td>(SET/20 RED RETROSPOT PAPER NAPKINS)</td>\n      <td>(SET/6 RED SPOTTY PAPER CUPS, SET/6 RED SPOTTY...</td>\n      <td>0.112798</td>\n      <td>0.104121</td>\n      <td>0.084599</td>\n      <td>0.750000</td>\n      <td>7.203125</td>\n      <td>0.072854</td>\n      <td>3.583514</td>\n    </tr>\n  </tbody>\n</table>\n</div>"
     },
     "metadata": {},
     "execution_count": 24
    }
   ],
   "source": [
    "rules.head(20)"
   ]
  },
  {
   "cell_type": "code",
   "execution_count": 25,
   "metadata": {},
   "outputs": [
    {
     "output_type": "execute_result",
     "data": {
      "text/plain": [
       "                            antecedents                    consequents  \\\n",
       "count                                18                             18   \n",
       "unique                                9                              9   \n",
       "top     (SET/6 RED SPOTTY PAPER PLATES)  (SET/6 RED SPOTTY PAPER CUPS)   \n",
       "freq                                  3                              3   \n",
       "mean                                NaN                            NaN   \n",
       "std                                 NaN                            NaN   \n",
       "min                                 NaN                            NaN   \n",
       "25%                                 NaN                            NaN   \n",
       "50%                                 NaN                            NaN   \n",
       "75%                                 NaN                            NaN   \n",
       "max                                 NaN                            NaN   \n",
       "\n",
       "        antecedent support  consequent support    support  confidence  \\\n",
       "count            18.000000           18.000000  18.000000   18.000000   \n",
       "unique                 NaN                 NaN        NaN         NaN   \n",
       "top                    NaN                 NaN        NaN         NaN   \n",
       "freq                   NaN                 NaN        NaN         NaN   \n",
       "mean              0.116896            0.116896   0.087009    0.760863   \n",
       "std               0.017558            0.017558   0.007171    0.131357   \n",
       "min               0.086768            0.086768   0.075922    0.530303   \n",
       "25%               0.108460            0.108460   0.084599    0.666667   \n",
       "50%               0.114967            0.114967   0.086768    0.764245   \n",
       "75%               0.117137            0.117137   0.086768    0.809375   \n",
       "max               0.145336            0.145336   0.104121    0.975000   \n",
       "\n",
       "             lift   leverage  conviction  \n",
       "count   18.000000  18.000000   18.000000  \n",
       "unique        NaN        NaN         NaN  \n",
       "top           NaN        NaN         NaN  \n",
       "freq          NaN        NaN         NaN  \n",
       "mean     6.699165   0.073223    8.156028  \n",
       "std      1.674692   0.008337   10.937579  \n",
       "min      4.170059   0.059152    1.879645  \n",
       "25%      5.224157   0.071913    2.648316  \n",
       "50%      7.092308   0.073555    3.704628  \n",
       "75%      8.195556   0.074534    4.657809  \n",
       "max      8.989500   0.091417   35.661605  "
      ],
      "text/html": "<div>\n<style scoped>\n    .dataframe tbody tr th:only-of-type {\n        vertical-align: middle;\n    }\n\n    .dataframe tbody tr th {\n        vertical-align: top;\n    }\n\n    .dataframe thead th {\n        text-align: right;\n    }\n</style>\n<table border=\"1\" class=\"dataframe\">\n  <thead>\n    <tr style=\"text-align: right;\">\n      <th></th>\n      <th>antecedents</th>\n      <th>consequents</th>\n      <th>antecedent support</th>\n      <th>consequent support</th>\n      <th>support</th>\n      <th>confidence</th>\n      <th>lift</th>\n      <th>leverage</th>\n      <th>conviction</th>\n    </tr>\n  </thead>\n  <tbody>\n    <tr>\n      <th>count</th>\n      <td>18</td>\n      <td>18</td>\n      <td>18.000000</td>\n      <td>18.000000</td>\n      <td>18.000000</td>\n      <td>18.000000</td>\n      <td>18.000000</td>\n      <td>18.000000</td>\n      <td>18.000000</td>\n    </tr>\n    <tr>\n      <th>unique</th>\n      <td>9</td>\n      <td>9</td>\n      <td>NaN</td>\n      <td>NaN</td>\n      <td>NaN</td>\n      <td>NaN</td>\n      <td>NaN</td>\n      <td>NaN</td>\n      <td>NaN</td>\n    </tr>\n    <tr>\n      <th>top</th>\n      <td>(SET/6 RED SPOTTY PAPER PLATES)</td>\n      <td>(SET/6 RED SPOTTY PAPER CUPS)</td>\n      <td>NaN</td>\n      <td>NaN</td>\n      <td>NaN</td>\n      <td>NaN</td>\n      <td>NaN</td>\n      <td>NaN</td>\n      <td>NaN</td>\n    </tr>\n    <tr>\n      <th>freq</th>\n      <td>3</td>\n      <td>3</td>\n      <td>NaN</td>\n      <td>NaN</td>\n      <td>NaN</td>\n      <td>NaN</td>\n      <td>NaN</td>\n      <td>NaN</td>\n      <td>NaN</td>\n    </tr>\n    <tr>\n      <th>mean</th>\n      <td>NaN</td>\n      <td>NaN</td>\n      <td>0.116896</td>\n      <td>0.116896</td>\n      <td>0.087009</td>\n      <td>0.760863</td>\n      <td>6.699165</td>\n      <td>0.073223</td>\n      <td>8.156028</td>\n    </tr>\n    <tr>\n      <th>std</th>\n      <td>NaN</td>\n      <td>NaN</td>\n      <td>0.017558</td>\n      <td>0.017558</td>\n      <td>0.007171</td>\n      <td>0.131357</td>\n      <td>1.674692</td>\n      <td>0.008337</td>\n      <td>10.937579</td>\n    </tr>\n    <tr>\n      <th>min</th>\n      <td>NaN</td>\n      <td>NaN</td>\n      <td>0.086768</td>\n      <td>0.086768</td>\n      <td>0.075922</td>\n      <td>0.530303</td>\n      <td>4.170059</td>\n      <td>0.059152</td>\n      <td>1.879645</td>\n    </tr>\n    <tr>\n      <th>25%</th>\n      <td>NaN</td>\n      <td>NaN</td>\n      <td>0.108460</td>\n      <td>0.108460</td>\n      <td>0.084599</td>\n      <td>0.666667</td>\n      <td>5.224157</td>\n      <td>0.071913</td>\n      <td>2.648316</td>\n    </tr>\n    <tr>\n      <th>50%</th>\n      <td>NaN</td>\n      <td>NaN</td>\n      <td>0.114967</td>\n      <td>0.114967</td>\n      <td>0.086768</td>\n      <td>0.764245</td>\n      <td>7.092308</td>\n      <td>0.073555</td>\n      <td>3.704628</td>\n    </tr>\n    <tr>\n      <th>75%</th>\n      <td>NaN</td>\n      <td>NaN</td>\n      <td>0.117137</td>\n      <td>0.117137</td>\n      <td>0.086768</td>\n      <td>0.809375</td>\n      <td>8.195556</td>\n      <td>0.074534</td>\n      <td>4.657809</td>\n    </tr>\n    <tr>\n      <th>max</th>\n      <td>NaN</td>\n      <td>NaN</td>\n      <td>0.145336</td>\n      <td>0.145336</td>\n      <td>0.104121</td>\n      <td>0.975000</td>\n      <td>8.989500</td>\n      <td>0.091417</td>\n      <td>35.661605</td>\n    </tr>\n  </tbody>\n</table>\n</div>"
     },
     "metadata": {},
     "execution_count": 25
    }
   ],
   "source": [
    "rules.describe(include='all')"
   ]
  },
  {
   "cell_type": "code",
   "execution_count": 26,
   "metadata": {},
   "outputs": [
    {
     "output_type": "execute_result",
     "data": {
      "text/plain": [
       "                                          antecedents  \\\n",
       "16                    (SET/6 RED SPOTTY PAPER PLATES)   \n",
       "13  (SET/6 RED SPOTTY PAPER CUPS, SET/20 RED RETRO...   \n",
       "15                      (SET/6 RED SPOTTY PAPER CUPS)   \n",
       "14  (SET/6 RED SPOTTY PAPER PLATES, SET/20 RED RET...   \n",
       "11                    (SET/6 RED SPOTTY PAPER PLATES)   \n",
       "10                      (SET/6 RED SPOTTY PAPER CUPS)   \n",
       "17               (SET/20 RED RETROSPOT PAPER NAPKINS)   \n",
       "12  (SET/6 RED SPOTTY PAPER CUPS, SET/6 RED SPOTTY...   \n",
       "9                (SET/20 RED RETROSPOT PAPER NAPKINS)   \n",
       "8                     (SET/6 RED SPOTTY PAPER PLATES)   \n",
       "7                (SET/20 RED RETROSPOT PAPER NAPKINS)   \n",
       "6                       (SET/6 RED SPOTTY PAPER CUPS)   \n",
       "5                  (PLASTERS IN TIN WOODLAND ANIMALS)   \n",
       "4                          (PLASTERS IN TIN SPACEBOY)   \n",
       "1                     (PLASTERS IN TIN CIRCUS PARADE)   \n",
       "0                          (PLASTERS IN TIN SPACEBOY)   \n",
       "3                  (PLASTERS IN TIN WOODLAND ANIMALS)   \n",
       "2                     (PLASTERS IN TIN CIRCUS PARADE)   \n",
       "\n",
       "                                          consequents  antecedent support  \\\n",
       "16  (SET/6 RED SPOTTY PAPER CUPS, SET/20 RED RETRO...            0.108460   \n",
       "13                    (SET/6 RED SPOTTY PAPER PLATES)            0.086768   \n",
       "15  (SET/6 RED SPOTTY PAPER PLATES, SET/20 RED RET...            0.117137   \n",
       "14                      (SET/6 RED SPOTTY PAPER CUPS)            0.086768   \n",
       "11                      (SET/6 RED SPOTTY PAPER CUPS)            0.108460   \n",
       "10                    (SET/6 RED SPOTTY PAPER PLATES)            0.117137   \n",
       "17  (SET/6 RED SPOTTY PAPER CUPS, SET/6 RED SPOTTY...            0.112798   \n",
       "12               (SET/20 RED RETROSPOT PAPER NAPKINS)            0.104121   \n",
       "9                     (SET/6 RED SPOTTY PAPER PLATES)            0.112798   \n",
       "8                (SET/20 RED RETROSPOT PAPER NAPKINS)            0.108460   \n",
       "7                       (SET/6 RED SPOTTY PAPER CUPS)            0.112798   \n",
       "6                (SET/20 RED RETROSPOT PAPER NAPKINS)            0.117137   \n",
       "5                          (PLASTERS IN TIN SPACEBOY)            0.145336   \n",
       "4                  (PLASTERS IN TIN WOODLAND ANIMALS)            0.117137   \n",
       "1                          (PLASTERS IN TIN SPACEBOY)            0.143167   \n",
       "0                     (PLASTERS IN TIN CIRCUS PARADE)            0.117137   \n",
       "3                     (PLASTERS IN TIN CIRCUS PARADE)            0.145336   \n",
       "2                  (PLASTERS IN TIN WOODLAND ANIMALS)            0.143167   \n",
       "\n",
       "    consequent support   support  confidence      lift  leverage  conviction  \n",
       "16            0.086768  0.084599    0.780000  8.989500  0.075188    4.151055  \n",
       "13            0.108460  0.084599    0.975000  8.989500  0.075188   35.661605  \n",
       "15            0.086768  0.084599    0.722222  8.323611  0.074435    3.287636  \n",
       "14            0.117137  0.084599    0.975000  8.323611  0.074435   35.314534  \n",
       "11            0.117137  0.104121    0.960000  8.195556  0.091417   22.071584  \n",
       "10            0.108460  0.104121    0.888889  8.195556  0.091417    8.023861  \n",
       "17            0.104121  0.084599    0.750000  7.203125  0.072854    3.583514  \n",
       "12            0.112798  0.084599    0.812500  7.203125  0.072854    4.731743  \n",
       "9             0.108460  0.086768    0.769231  7.092308  0.074534    3.863341  \n",
       "8             0.112798  0.086768    0.800000  7.092308  0.074534    4.436009  \n",
       "7             0.117137  0.086768    0.769231  6.566952  0.073555    3.825741  \n",
       "6             0.112798  0.086768    0.740741  6.566952  0.073555    3.422064  \n",
       "5             0.117137  0.088937    0.611940  5.224157  0.071913    2.275071  \n",
       "4             0.145336  0.088937    0.759259  5.224157  0.071913    3.550142  \n",
       "1             0.117137  0.075922    0.530303  4.527217  0.059152    1.879645  \n",
       "0             0.143167  0.075922    0.648148  4.527217  0.059152    2.435209  \n",
       "3             0.143167  0.086768    0.597015  4.170059  0.065961    2.126215  \n",
       "2             0.145336  0.086768    0.606061  4.170059  0.065961    2.169531  "
      ],
      "text/html": "<div>\n<style scoped>\n    .dataframe tbody tr th:only-of-type {\n        vertical-align: middle;\n    }\n\n    .dataframe tbody tr th {\n        vertical-align: top;\n    }\n\n    .dataframe thead th {\n        text-align: right;\n    }\n</style>\n<table border=\"1\" class=\"dataframe\">\n  <thead>\n    <tr style=\"text-align: right;\">\n      <th></th>\n      <th>antecedents</th>\n      <th>consequents</th>\n      <th>antecedent support</th>\n      <th>consequent support</th>\n      <th>support</th>\n      <th>confidence</th>\n      <th>lift</th>\n      <th>leverage</th>\n      <th>conviction</th>\n    </tr>\n  </thead>\n  <tbody>\n    <tr>\n      <th>16</th>\n      <td>(SET/6 RED SPOTTY PAPER PLATES)</td>\n      <td>(SET/6 RED SPOTTY PAPER CUPS, SET/20 RED RETRO...</td>\n      <td>0.108460</td>\n      <td>0.086768</td>\n      <td>0.084599</td>\n      <td>0.780000</td>\n      <td>8.989500</td>\n      <td>0.075188</td>\n      <td>4.151055</td>\n    </tr>\n    <tr>\n      <th>13</th>\n      <td>(SET/6 RED SPOTTY PAPER CUPS, SET/20 RED RETRO...</td>\n      <td>(SET/6 RED SPOTTY PAPER PLATES)</td>\n      <td>0.086768</td>\n      <td>0.108460</td>\n      <td>0.084599</td>\n      <td>0.975000</td>\n      <td>8.989500</td>\n      <td>0.075188</td>\n      <td>35.661605</td>\n    </tr>\n    <tr>\n      <th>15</th>\n      <td>(SET/6 RED SPOTTY PAPER CUPS)</td>\n      <td>(SET/6 RED SPOTTY PAPER PLATES, SET/20 RED RET...</td>\n      <td>0.117137</td>\n      <td>0.086768</td>\n      <td>0.084599</td>\n      <td>0.722222</td>\n      <td>8.323611</td>\n      <td>0.074435</td>\n      <td>3.287636</td>\n    </tr>\n    <tr>\n      <th>14</th>\n      <td>(SET/6 RED SPOTTY PAPER PLATES, SET/20 RED RET...</td>\n      <td>(SET/6 RED SPOTTY PAPER CUPS)</td>\n      <td>0.086768</td>\n      <td>0.117137</td>\n      <td>0.084599</td>\n      <td>0.975000</td>\n      <td>8.323611</td>\n      <td>0.074435</td>\n      <td>35.314534</td>\n    </tr>\n    <tr>\n      <th>11</th>\n      <td>(SET/6 RED SPOTTY PAPER PLATES)</td>\n      <td>(SET/6 RED SPOTTY PAPER CUPS)</td>\n      <td>0.108460</td>\n      <td>0.117137</td>\n      <td>0.104121</td>\n      <td>0.960000</td>\n      <td>8.195556</td>\n      <td>0.091417</td>\n      <td>22.071584</td>\n    </tr>\n    <tr>\n      <th>10</th>\n      <td>(SET/6 RED SPOTTY PAPER CUPS)</td>\n      <td>(SET/6 RED SPOTTY PAPER PLATES)</td>\n      <td>0.117137</td>\n      <td>0.108460</td>\n      <td>0.104121</td>\n      <td>0.888889</td>\n      <td>8.195556</td>\n      <td>0.091417</td>\n      <td>8.023861</td>\n    </tr>\n    <tr>\n      <th>17</th>\n      <td>(SET/20 RED RETROSPOT PAPER NAPKINS)</td>\n      <td>(SET/6 RED SPOTTY PAPER CUPS, SET/6 RED SPOTTY...</td>\n      <td>0.112798</td>\n      <td>0.104121</td>\n      <td>0.084599</td>\n      <td>0.750000</td>\n      <td>7.203125</td>\n      <td>0.072854</td>\n      <td>3.583514</td>\n    </tr>\n    <tr>\n      <th>12</th>\n      <td>(SET/6 RED SPOTTY PAPER CUPS, SET/6 RED SPOTTY...</td>\n      <td>(SET/20 RED RETROSPOT PAPER NAPKINS)</td>\n      <td>0.104121</td>\n      <td>0.112798</td>\n      <td>0.084599</td>\n      <td>0.812500</td>\n      <td>7.203125</td>\n      <td>0.072854</td>\n      <td>4.731743</td>\n    </tr>\n    <tr>\n      <th>9</th>\n      <td>(SET/20 RED RETROSPOT PAPER NAPKINS)</td>\n      <td>(SET/6 RED SPOTTY PAPER PLATES)</td>\n      <td>0.112798</td>\n      <td>0.108460</td>\n      <td>0.086768</td>\n      <td>0.769231</td>\n      <td>7.092308</td>\n      <td>0.074534</td>\n      <td>3.863341</td>\n    </tr>\n    <tr>\n      <th>8</th>\n      <td>(SET/6 RED SPOTTY PAPER PLATES)</td>\n      <td>(SET/20 RED RETROSPOT PAPER NAPKINS)</td>\n      <td>0.108460</td>\n      <td>0.112798</td>\n      <td>0.086768</td>\n      <td>0.800000</td>\n      <td>7.092308</td>\n      <td>0.074534</td>\n      <td>4.436009</td>\n    </tr>\n    <tr>\n      <th>7</th>\n      <td>(SET/20 RED RETROSPOT PAPER NAPKINS)</td>\n      <td>(SET/6 RED SPOTTY PAPER CUPS)</td>\n      <td>0.112798</td>\n      <td>0.117137</td>\n      <td>0.086768</td>\n      <td>0.769231</td>\n      <td>6.566952</td>\n      <td>0.073555</td>\n      <td>3.825741</td>\n    </tr>\n    <tr>\n      <th>6</th>\n      <td>(SET/6 RED SPOTTY PAPER CUPS)</td>\n      <td>(SET/20 RED RETROSPOT PAPER NAPKINS)</td>\n      <td>0.117137</td>\n      <td>0.112798</td>\n      <td>0.086768</td>\n      <td>0.740741</td>\n      <td>6.566952</td>\n      <td>0.073555</td>\n      <td>3.422064</td>\n    </tr>\n    <tr>\n      <th>5</th>\n      <td>(PLASTERS IN TIN WOODLAND ANIMALS)</td>\n      <td>(PLASTERS IN TIN SPACEBOY)</td>\n      <td>0.145336</td>\n      <td>0.117137</td>\n      <td>0.088937</td>\n      <td>0.611940</td>\n      <td>5.224157</td>\n      <td>0.071913</td>\n      <td>2.275071</td>\n    </tr>\n    <tr>\n      <th>4</th>\n      <td>(PLASTERS IN TIN SPACEBOY)</td>\n      <td>(PLASTERS IN TIN WOODLAND ANIMALS)</td>\n      <td>0.117137</td>\n      <td>0.145336</td>\n      <td>0.088937</td>\n      <td>0.759259</td>\n      <td>5.224157</td>\n      <td>0.071913</td>\n      <td>3.550142</td>\n    </tr>\n    <tr>\n      <th>1</th>\n      <td>(PLASTERS IN TIN CIRCUS PARADE)</td>\n      <td>(PLASTERS IN TIN SPACEBOY)</td>\n      <td>0.143167</td>\n      <td>0.117137</td>\n      <td>0.075922</td>\n      <td>0.530303</td>\n      <td>4.527217</td>\n      <td>0.059152</td>\n      <td>1.879645</td>\n    </tr>\n    <tr>\n      <th>0</th>\n      <td>(PLASTERS IN TIN SPACEBOY)</td>\n      <td>(PLASTERS IN TIN CIRCUS PARADE)</td>\n      <td>0.117137</td>\n      <td>0.143167</td>\n      <td>0.075922</td>\n      <td>0.648148</td>\n      <td>4.527217</td>\n      <td>0.059152</td>\n      <td>2.435209</td>\n    </tr>\n    <tr>\n      <th>3</th>\n      <td>(PLASTERS IN TIN WOODLAND ANIMALS)</td>\n      <td>(PLASTERS IN TIN CIRCUS PARADE)</td>\n      <td>0.145336</td>\n      <td>0.143167</td>\n      <td>0.086768</td>\n      <td>0.597015</td>\n      <td>4.170059</td>\n      <td>0.065961</td>\n      <td>2.126215</td>\n    </tr>\n    <tr>\n      <th>2</th>\n      <td>(PLASTERS IN TIN CIRCUS PARADE)</td>\n      <td>(PLASTERS IN TIN WOODLAND ANIMALS)</td>\n      <td>0.143167</td>\n      <td>0.145336</td>\n      <td>0.086768</td>\n      <td>0.606061</td>\n      <td>4.170059</td>\n      <td>0.065961</td>\n      <td>2.169531</td>\n    </tr>\n  </tbody>\n</table>\n</div>"
     },
     "metadata": {},
     "execution_count": 26
    }
   ],
   "source": [
    "rules.sort_values(by = 'lift',  ascending = False)"
   ]
  },
  {
   "cell_type": "code",
   "execution_count": 27,
   "metadata": {},
   "outputs": [
    {
     "output_type": "execute_result",
     "data": {
      "text/plain": [
       "                       antecedents                         consequents  \\\n",
       "1  (PLASTERS IN TIN CIRCUS PARADE)          (PLASTERS IN TIN SPACEBOY)   \n",
       "2  (PLASTERS IN TIN CIRCUS PARADE)  (PLASTERS IN TIN WOODLAND ANIMALS)   \n",
       "\n",
       "   antecedent support  consequent support   support  confidence      lift  \\\n",
       "1            0.143167            0.117137  0.075922    0.530303  4.527217   \n",
       "2            0.143167            0.145336  0.086768    0.606061  4.170059   \n",
       "\n",
       "   leverage  conviction  \n",
       "1  0.059152    1.879645  \n",
       "2  0.065961    2.169531  "
      ],
      "text/html": "<div>\n<style scoped>\n    .dataframe tbody tr th:only-of-type {\n        vertical-align: middle;\n    }\n\n    .dataframe tbody tr th {\n        vertical-align: top;\n    }\n\n    .dataframe thead th {\n        text-align: right;\n    }\n</style>\n<table border=\"1\" class=\"dataframe\">\n  <thead>\n    <tr style=\"text-align: right;\">\n      <th></th>\n      <th>antecedents</th>\n      <th>consequents</th>\n      <th>antecedent support</th>\n      <th>consequent support</th>\n      <th>support</th>\n      <th>confidence</th>\n      <th>lift</th>\n      <th>leverage</th>\n      <th>conviction</th>\n    </tr>\n  </thead>\n  <tbody>\n    <tr>\n      <th>1</th>\n      <td>(PLASTERS IN TIN CIRCUS PARADE)</td>\n      <td>(PLASTERS IN TIN SPACEBOY)</td>\n      <td>0.143167</td>\n      <td>0.117137</td>\n      <td>0.075922</td>\n      <td>0.530303</td>\n      <td>4.527217</td>\n      <td>0.059152</td>\n      <td>1.879645</td>\n    </tr>\n    <tr>\n      <th>2</th>\n      <td>(PLASTERS IN TIN CIRCUS PARADE)</td>\n      <td>(PLASTERS IN TIN WOODLAND ANIMALS)</td>\n      <td>0.143167</td>\n      <td>0.145336</td>\n      <td>0.086768</td>\n      <td>0.606061</td>\n      <td>4.170059</td>\n      <td>0.065961</td>\n      <td>2.169531</td>\n    </tr>\n  </tbody>\n</table>\n</div>"
     },
     "metadata": {},
     "execution_count": 27
    }
   ],
   "source": [
    "rules[rules['antecedents'] == {'PLASTERS IN TIN CIRCUS PARADE'}]"
   ]
  },
  {
   "cell_type": "code",
   "execution_count": null,
   "metadata": {},
   "outputs": [],
   "source": [
    "rules[\"antecedent_len\"] = rules[\"antecedents\"].apply(lambda x: len(x))\n",
    "rules"
   ]
  },
  {
   "cell_type": "markdown",
   "metadata": {},
   "source": [
    "## 4. Let's identify the most relevant association rules"
   ]
  },
  {
   "cell_type": "code",
   "execution_count": 28,
   "metadata": {},
   "outputs": [
    {
     "output_type": "stream",
     "name": "stdout",
     "text": [
      "CPU times: user 2.29 ms, sys: 235 µs, total: 2.53 ms\nWall time: 2.36 ms\n"
     ]
    },
    {
     "output_type": "execute_result",
     "data": {
      "text/plain": [
       "                                          antecedents  \\\n",
       "0                          (PLASTERS IN TIN SPACEBOY)   \n",
       "2                     (PLASTERS IN TIN CIRCUS PARADE)   \n",
       "4                          (PLASTERS IN TIN SPACEBOY)   \n",
       "5                  (PLASTERS IN TIN WOODLAND ANIMALS)   \n",
       "6                       (SET/6 RED SPOTTY PAPER CUPS)   \n",
       "7                (SET/20 RED RETROSPOT PAPER NAPKINS)   \n",
       "8                     (SET/6 RED SPOTTY PAPER PLATES)   \n",
       "9                (SET/20 RED RETROSPOT PAPER NAPKINS)   \n",
       "10                      (SET/6 RED SPOTTY PAPER CUPS)   \n",
       "11                    (SET/6 RED SPOTTY PAPER PLATES)   \n",
       "12  (SET/6 RED SPOTTY PAPER CUPS, SET/6 RED SPOTTY...   \n",
       "13  (SET/6 RED SPOTTY PAPER CUPS, SET/20 RED RETRO...   \n",
       "14  (SET/6 RED SPOTTY PAPER PLATES, SET/20 RED RET...   \n",
       "15                      (SET/6 RED SPOTTY PAPER CUPS)   \n",
       "16                    (SET/6 RED SPOTTY PAPER PLATES)   \n",
       "17               (SET/20 RED RETROSPOT PAPER NAPKINS)   \n",
       "\n",
       "                                          consequents  antecedent support  \\\n",
       "0                     (PLASTERS IN TIN CIRCUS PARADE)            0.117137   \n",
       "2                  (PLASTERS IN TIN WOODLAND ANIMALS)            0.143167   \n",
       "4                  (PLASTERS IN TIN WOODLAND ANIMALS)            0.117137   \n",
       "5                          (PLASTERS IN TIN SPACEBOY)            0.145336   \n",
       "6                (SET/20 RED RETROSPOT PAPER NAPKINS)            0.117137   \n",
       "7                       (SET/6 RED SPOTTY PAPER CUPS)            0.112798   \n",
       "8                (SET/20 RED RETROSPOT PAPER NAPKINS)            0.108460   \n",
       "9                     (SET/6 RED SPOTTY PAPER PLATES)            0.112798   \n",
       "10                    (SET/6 RED SPOTTY PAPER PLATES)            0.117137   \n",
       "11                      (SET/6 RED SPOTTY PAPER CUPS)            0.108460   \n",
       "12               (SET/20 RED RETROSPOT PAPER NAPKINS)            0.104121   \n",
       "13                    (SET/6 RED SPOTTY PAPER PLATES)            0.086768   \n",
       "14                      (SET/6 RED SPOTTY PAPER CUPS)            0.086768   \n",
       "15  (SET/6 RED SPOTTY PAPER PLATES, SET/20 RED RET...            0.117137   \n",
       "16  (SET/6 RED SPOTTY PAPER CUPS, SET/20 RED RETRO...            0.108460   \n",
       "17  (SET/6 RED SPOTTY PAPER CUPS, SET/6 RED SPOTTY...            0.112798   \n",
       "\n",
       "    consequent support   support  confidence      lift  leverage  conviction  \n",
       "0             0.143167  0.075922    0.648148  4.527217  0.059152    2.435209  \n",
       "2             0.145336  0.086768    0.606061  4.170059  0.065961    2.169531  \n",
       "4             0.145336  0.088937    0.759259  5.224157  0.071913    3.550142  \n",
       "5             0.117137  0.088937    0.611940  5.224157  0.071913    2.275071  \n",
       "6             0.112798  0.086768    0.740741  6.566952  0.073555    3.422064  \n",
       "7             0.117137  0.086768    0.769231  6.566952  0.073555    3.825741  \n",
       "8             0.112798  0.086768    0.800000  7.092308  0.074534    4.436009  \n",
       "9             0.108460  0.086768    0.769231  7.092308  0.074534    3.863341  \n",
       "10            0.108460  0.104121    0.888889  8.195556  0.091417    8.023861  \n",
       "11            0.117137  0.104121    0.960000  8.195556  0.091417   22.071584  \n",
       "12            0.112798  0.084599    0.812500  7.203125  0.072854    4.731743  \n",
       "13            0.108460  0.084599    0.975000  8.989500  0.075188   35.661605  \n",
       "14            0.117137  0.084599    0.975000  8.323611  0.074435   35.314534  \n",
       "15            0.086768  0.084599    0.722222  8.323611  0.074435    3.287636  \n",
       "16            0.086768  0.084599    0.780000  8.989500  0.075188    4.151055  \n",
       "17            0.104121  0.084599    0.750000  7.203125  0.072854    3.583514  "
      ],
      "text/html": "<div>\n<style scoped>\n    .dataframe tbody tr th:only-of-type {\n        vertical-align: middle;\n    }\n\n    .dataframe tbody tr th {\n        vertical-align: top;\n    }\n\n    .dataframe thead th {\n        text-align: right;\n    }\n</style>\n<table border=\"1\" class=\"dataframe\">\n  <thead>\n    <tr style=\"text-align: right;\">\n      <th></th>\n      <th>antecedents</th>\n      <th>consequents</th>\n      <th>antecedent support</th>\n      <th>consequent support</th>\n      <th>support</th>\n      <th>confidence</th>\n      <th>lift</th>\n      <th>leverage</th>\n      <th>conviction</th>\n    </tr>\n  </thead>\n  <tbody>\n    <tr>\n      <th>0</th>\n      <td>(PLASTERS IN TIN SPACEBOY)</td>\n      <td>(PLASTERS IN TIN CIRCUS PARADE)</td>\n      <td>0.117137</td>\n      <td>0.143167</td>\n      <td>0.075922</td>\n      <td>0.648148</td>\n      <td>4.527217</td>\n      <td>0.059152</td>\n      <td>2.435209</td>\n    </tr>\n    <tr>\n      <th>2</th>\n      <td>(PLASTERS IN TIN CIRCUS PARADE)</td>\n      <td>(PLASTERS IN TIN WOODLAND ANIMALS)</td>\n      <td>0.143167</td>\n      <td>0.145336</td>\n      <td>0.086768</td>\n      <td>0.606061</td>\n      <td>4.170059</td>\n      <td>0.065961</td>\n      <td>2.169531</td>\n    </tr>\n    <tr>\n      <th>4</th>\n      <td>(PLASTERS IN TIN SPACEBOY)</td>\n      <td>(PLASTERS IN TIN WOODLAND ANIMALS)</td>\n      <td>0.117137</td>\n      <td>0.145336</td>\n      <td>0.088937</td>\n      <td>0.759259</td>\n      <td>5.224157</td>\n      <td>0.071913</td>\n      <td>3.550142</td>\n    </tr>\n    <tr>\n      <th>5</th>\n      <td>(PLASTERS IN TIN WOODLAND ANIMALS)</td>\n      <td>(PLASTERS IN TIN SPACEBOY)</td>\n      <td>0.145336</td>\n      <td>0.117137</td>\n      <td>0.088937</td>\n      <td>0.611940</td>\n      <td>5.224157</td>\n      <td>0.071913</td>\n      <td>2.275071</td>\n    </tr>\n    <tr>\n      <th>6</th>\n      <td>(SET/6 RED SPOTTY PAPER CUPS)</td>\n      <td>(SET/20 RED RETROSPOT PAPER NAPKINS)</td>\n      <td>0.117137</td>\n      <td>0.112798</td>\n      <td>0.086768</td>\n      <td>0.740741</td>\n      <td>6.566952</td>\n      <td>0.073555</td>\n      <td>3.422064</td>\n    </tr>\n    <tr>\n      <th>7</th>\n      <td>(SET/20 RED RETROSPOT PAPER NAPKINS)</td>\n      <td>(SET/6 RED SPOTTY PAPER CUPS)</td>\n      <td>0.112798</td>\n      <td>0.117137</td>\n      <td>0.086768</td>\n      <td>0.769231</td>\n      <td>6.566952</td>\n      <td>0.073555</td>\n      <td>3.825741</td>\n    </tr>\n    <tr>\n      <th>8</th>\n      <td>(SET/6 RED SPOTTY PAPER PLATES)</td>\n      <td>(SET/20 RED RETROSPOT PAPER NAPKINS)</td>\n      <td>0.108460</td>\n      <td>0.112798</td>\n      <td>0.086768</td>\n      <td>0.800000</td>\n      <td>7.092308</td>\n      <td>0.074534</td>\n      <td>4.436009</td>\n    </tr>\n    <tr>\n      <th>9</th>\n      <td>(SET/20 RED RETROSPOT PAPER NAPKINS)</td>\n      <td>(SET/6 RED SPOTTY PAPER PLATES)</td>\n      <td>0.112798</td>\n      <td>0.108460</td>\n      <td>0.086768</td>\n      <td>0.769231</td>\n      <td>7.092308</td>\n      <td>0.074534</td>\n      <td>3.863341</td>\n    </tr>\n    <tr>\n      <th>10</th>\n      <td>(SET/6 RED SPOTTY PAPER CUPS)</td>\n      <td>(SET/6 RED SPOTTY PAPER PLATES)</td>\n      <td>0.117137</td>\n      <td>0.108460</td>\n      <td>0.104121</td>\n      <td>0.888889</td>\n      <td>8.195556</td>\n      <td>0.091417</td>\n      <td>8.023861</td>\n    </tr>\n    <tr>\n      <th>11</th>\n      <td>(SET/6 RED SPOTTY PAPER PLATES)</td>\n      <td>(SET/6 RED SPOTTY PAPER CUPS)</td>\n      <td>0.108460</td>\n      <td>0.117137</td>\n      <td>0.104121</td>\n      <td>0.960000</td>\n      <td>8.195556</td>\n      <td>0.091417</td>\n      <td>22.071584</td>\n    </tr>\n    <tr>\n      <th>12</th>\n      <td>(SET/6 RED SPOTTY PAPER CUPS, SET/6 RED SPOTTY...</td>\n      <td>(SET/20 RED RETROSPOT PAPER NAPKINS)</td>\n      <td>0.104121</td>\n      <td>0.112798</td>\n      <td>0.084599</td>\n      <td>0.812500</td>\n      <td>7.203125</td>\n      <td>0.072854</td>\n      <td>4.731743</td>\n    </tr>\n    <tr>\n      <th>13</th>\n      <td>(SET/6 RED SPOTTY PAPER CUPS, SET/20 RED RETRO...</td>\n      <td>(SET/6 RED SPOTTY PAPER PLATES)</td>\n      <td>0.086768</td>\n      <td>0.108460</td>\n      <td>0.084599</td>\n      <td>0.975000</td>\n      <td>8.989500</td>\n      <td>0.075188</td>\n      <td>35.661605</td>\n    </tr>\n    <tr>\n      <th>14</th>\n      <td>(SET/6 RED SPOTTY PAPER PLATES, SET/20 RED RET...</td>\n      <td>(SET/6 RED SPOTTY PAPER CUPS)</td>\n      <td>0.086768</td>\n      <td>0.117137</td>\n      <td>0.084599</td>\n      <td>0.975000</td>\n      <td>8.323611</td>\n      <td>0.074435</td>\n      <td>35.314534</td>\n    </tr>\n    <tr>\n      <th>15</th>\n      <td>(SET/6 RED SPOTTY PAPER CUPS)</td>\n      <td>(SET/6 RED SPOTTY PAPER PLATES, SET/20 RED RET...</td>\n      <td>0.117137</td>\n      <td>0.086768</td>\n      <td>0.084599</td>\n      <td>0.722222</td>\n      <td>8.323611</td>\n      <td>0.074435</td>\n      <td>3.287636</td>\n    </tr>\n    <tr>\n      <th>16</th>\n      <td>(SET/6 RED SPOTTY PAPER PLATES)</td>\n      <td>(SET/6 RED SPOTTY PAPER CUPS, SET/20 RED RETRO...</td>\n      <td>0.108460</td>\n      <td>0.086768</td>\n      <td>0.084599</td>\n      <td>0.780000</td>\n      <td>8.989500</td>\n      <td>0.075188</td>\n      <td>4.151055</td>\n    </tr>\n    <tr>\n      <th>17</th>\n      <td>(SET/20 RED RETROSPOT PAPER NAPKINS)</td>\n      <td>(SET/6 RED SPOTTY PAPER CUPS, SET/6 RED SPOTTY...</td>\n      <td>0.112798</td>\n      <td>0.104121</td>\n      <td>0.084599</td>\n      <td>0.750000</td>\n      <td>7.203125</td>\n      <td>0.072854</td>\n      <td>3.583514</td>\n    </tr>\n  </tbody>\n</table>\n</div>"
     },
     "metadata": {},
     "execution_count": 28
    }
   ],
   "source": [
    "%%time\n",
    "rules[ (rules['lift'] >= 1) &\n",
    "       (rules['confidence'] >= 0.6) ]"
   ]
  },
  {
   "cell_type": "markdown",
   "metadata": {},
   "source": [
    "### Let's take all the rules with a lift > 2 and a confidence > 0.7"
   ]
  },
  {
   "cell_type": "code",
   "execution_count": 29,
   "metadata": {},
   "outputs": [],
   "source": [
    "mylift = 2\n",
    "myconfidence = 0.7"
   ]
  },
  {
   "cell_type": "code",
   "execution_count": 30,
   "metadata": {},
   "outputs": [
    {
     "output_type": "execute_result",
     "data": {
      "text/plain": [
       "                                          antecedents  \\\n",
       "4                          (PLASTERS IN TIN SPACEBOY)   \n",
       "6                       (SET/6 RED SPOTTY PAPER CUPS)   \n",
       "7                (SET/20 RED RETROSPOT PAPER NAPKINS)   \n",
       "8                     (SET/6 RED SPOTTY PAPER PLATES)   \n",
       "9                (SET/20 RED RETROSPOT PAPER NAPKINS)   \n",
       "10                      (SET/6 RED SPOTTY PAPER CUPS)   \n",
       "11                    (SET/6 RED SPOTTY PAPER PLATES)   \n",
       "12  (SET/6 RED SPOTTY PAPER CUPS, SET/6 RED SPOTTY...   \n",
       "13  (SET/6 RED SPOTTY PAPER CUPS, SET/20 RED RETRO...   \n",
       "14  (SET/6 RED SPOTTY PAPER PLATES, SET/20 RED RET...   \n",
       "15                      (SET/6 RED SPOTTY PAPER CUPS)   \n",
       "16                    (SET/6 RED SPOTTY PAPER PLATES)   \n",
       "17               (SET/20 RED RETROSPOT PAPER NAPKINS)   \n",
       "\n",
       "                                          consequents  antecedent support  \\\n",
       "4                  (PLASTERS IN TIN WOODLAND ANIMALS)            0.117137   \n",
       "6                (SET/20 RED RETROSPOT PAPER NAPKINS)            0.117137   \n",
       "7                       (SET/6 RED SPOTTY PAPER CUPS)            0.112798   \n",
       "8                (SET/20 RED RETROSPOT PAPER NAPKINS)            0.108460   \n",
       "9                     (SET/6 RED SPOTTY PAPER PLATES)            0.112798   \n",
       "10                    (SET/6 RED SPOTTY PAPER PLATES)            0.117137   \n",
       "11                      (SET/6 RED SPOTTY PAPER CUPS)            0.108460   \n",
       "12               (SET/20 RED RETROSPOT PAPER NAPKINS)            0.104121   \n",
       "13                    (SET/6 RED SPOTTY PAPER PLATES)            0.086768   \n",
       "14                      (SET/6 RED SPOTTY PAPER CUPS)            0.086768   \n",
       "15  (SET/6 RED SPOTTY PAPER PLATES, SET/20 RED RET...            0.117137   \n",
       "16  (SET/6 RED SPOTTY PAPER CUPS, SET/20 RED RETRO...            0.108460   \n",
       "17  (SET/6 RED SPOTTY PAPER CUPS, SET/6 RED SPOTTY...            0.112798   \n",
       "\n",
       "    consequent support   support  confidence      lift  leverage  conviction  \n",
       "4             0.145336  0.088937    0.759259  5.224157  0.071913    3.550142  \n",
       "6             0.112798  0.086768    0.740741  6.566952  0.073555    3.422064  \n",
       "7             0.117137  0.086768    0.769231  6.566952  0.073555    3.825741  \n",
       "8             0.112798  0.086768    0.800000  7.092308  0.074534    4.436009  \n",
       "9             0.108460  0.086768    0.769231  7.092308  0.074534    3.863341  \n",
       "10            0.108460  0.104121    0.888889  8.195556  0.091417    8.023861  \n",
       "11            0.117137  0.104121    0.960000  8.195556  0.091417   22.071584  \n",
       "12            0.112798  0.084599    0.812500  7.203125  0.072854    4.731743  \n",
       "13            0.108460  0.084599    0.975000  8.989500  0.075188   35.661605  \n",
       "14            0.117137  0.084599    0.975000  8.323611  0.074435   35.314534  \n",
       "15            0.086768  0.084599    0.722222  8.323611  0.074435    3.287636  \n",
       "16            0.086768  0.084599    0.780000  8.989500  0.075188    4.151055  \n",
       "17            0.104121  0.084599    0.750000  7.203125  0.072854    3.583514  "
      ],
      "text/html": "<div>\n<style scoped>\n    .dataframe tbody tr th:only-of-type {\n        vertical-align: middle;\n    }\n\n    .dataframe tbody tr th {\n        vertical-align: top;\n    }\n\n    .dataframe thead th {\n        text-align: right;\n    }\n</style>\n<table border=\"1\" class=\"dataframe\">\n  <thead>\n    <tr style=\"text-align: right;\">\n      <th></th>\n      <th>antecedents</th>\n      <th>consequents</th>\n      <th>antecedent support</th>\n      <th>consequent support</th>\n      <th>support</th>\n      <th>confidence</th>\n      <th>lift</th>\n      <th>leverage</th>\n      <th>conviction</th>\n    </tr>\n  </thead>\n  <tbody>\n    <tr>\n      <th>4</th>\n      <td>(PLASTERS IN TIN SPACEBOY)</td>\n      <td>(PLASTERS IN TIN WOODLAND ANIMALS)</td>\n      <td>0.117137</td>\n      <td>0.145336</td>\n      <td>0.088937</td>\n      <td>0.759259</td>\n      <td>5.224157</td>\n      <td>0.071913</td>\n      <td>3.550142</td>\n    </tr>\n    <tr>\n      <th>6</th>\n      <td>(SET/6 RED SPOTTY PAPER CUPS)</td>\n      <td>(SET/20 RED RETROSPOT PAPER NAPKINS)</td>\n      <td>0.117137</td>\n      <td>0.112798</td>\n      <td>0.086768</td>\n      <td>0.740741</td>\n      <td>6.566952</td>\n      <td>0.073555</td>\n      <td>3.422064</td>\n    </tr>\n    <tr>\n      <th>7</th>\n      <td>(SET/20 RED RETROSPOT PAPER NAPKINS)</td>\n      <td>(SET/6 RED SPOTTY PAPER CUPS)</td>\n      <td>0.112798</td>\n      <td>0.117137</td>\n      <td>0.086768</td>\n      <td>0.769231</td>\n      <td>6.566952</td>\n      <td>0.073555</td>\n      <td>3.825741</td>\n    </tr>\n    <tr>\n      <th>8</th>\n      <td>(SET/6 RED SPOTTY PAPER PLATES)</td>\n      <td>(SET/20 RED RETROSPOT PAPER NAPKINS)</td>\n      <td>0.108460</td>\n      <td>0.112798</td>\n      <td>0.086768</td>\n      <td>0.800000</td>\n      <td>7.092308</td>\n      <td>0.074534</td>\n      <td>4.436009</td>\n    </tr>\n    <tr>\n      <th>9</th>\n      <td>(SET/20 RED RETROSPOT PAPER NAPKINS)</td>\n      <td>(SET/6 RED SPOTTY PAPER PLATES)</td>\n      <td>0.112798</td>\n      <td>0.108460</td>\n      <td>0.086768</td>\n      <td>0.769231</td>\n      <td>7.092308</td>\n      <td>0.074534</td>\n      <td>3.863341</td>\n    </tr>\n    <tr>\n      <th>10</th>\n      <td>(SET/6 RED SPOTTY PAPER CUPS)</td>\n      <td>(SET/6 RED SPOTTY PAPER PLATES)</td>\n      <td>0.117137</td>\n      <td>0.108460</td>\n      <td>0.104121</td>\n      <td>0.888889</td>\n      <td>8.195556</td>\n      <td>0.091417</td>\n      <td>8.023861</td>\n    </tr>\n    <tr>\n      <th>11</th>\n      <td>(SET/6 RED SPOTTY PAPER PLATES)</td>\n      <td>(SET/6 RED SPOTTY PAPER CUPS)</td>\n      <td>0.108460</td>\n      <td>0.117137</td>\n      <td>0.104121</td>\n      <td>0.960000</td>\n      <td>8.195556</td>\n      <td>0.091417</td>\n      <td>22.071584</td>\n    </tr>\n    <tr>\n      <th>12</th>\n      <td>(SET/6 RED SPOTTY PAPER CUPS, SET/6 RED SPOTTY...</td>\n      <td>(SET/20 RED RETROSPOT PAPER NAPKINS)</td>\n      <td>0.104121</td>\n      <td>0.112798</td>\n      <td>0.084599</td>\n      <td>0.812500</td>\n      <td>7.203125</td>\n      <td>0.072854</td>\n      <td>4.731743</td>\n    </tr>\n    <tr>\n      <th>13</th>\n      <td>(SET/6 RED SPOTTY PAPER CUPS, SET/20 RED RETRO...</td>\n      <td>(SET/6 RED SPOTTY PAPER PLATES)</td>\n      <td>0.086768</td>\n      <td>0.108460</td>\n      <td>0.084599</td>\n      <td>0.975000</td>\n      <td>8.989500</td>\n      <td>0.075188</td>\n      <td>35.661605</td>\n    </tr>\n    <tr>\n      <th>14</th>\n      <td>(SET/6 RED SPOTTY PAPER PLATES, SET/20 RED RET...</td>\n      <td>(SET/6 RED SPOTTY PAPER CUPS)</td>\n      <td>0.086768</td>\n      <td>0.117137</td>\n      <td>0.084599</td>\n      <td>0.975000</td>\n      <td>8.323611</td>\n      <td>0.074435</td>\n      <td>35.314534</td>\n    </tr>\n    <tr>\n      <th>15</th>\n      <td>(SET/6 RED SPOTTY PAPER CUPS)</td>\n      <td>(SET/6 RED SPOTTY PAPER PLATES, SET/20 RED RET...</td>\n      <td>0.117137</td>\n      <td>0.086768</td>\n      <td>0.084599</td>\n      <td>0.722222</td>\n      <td>8.323611</td>\n      <td>0.074435</td>\n      <td>3.287636</td>\n    </tr>\n    <tr>\n      <th>16</th>\n      <td>(SET/6 RED SPOTTY PAPER PLATES)</td>\n      <td>(SET/6 RED SPOTTY PAPER CUPS, SET/20 RED RETRO...</td>\n      <td>0.108460</td>\n      <td>0.086768</td>\n      <td>0.084599</td>\n      <td>0.780000</td>\n      <td>8.989500</td>\n      <td>0.075188</td>\n      <td>4.151055</td>\n    </tr>\n    <tr>\n      <th>17</th>\n      <td>(SET/20 RED RETROSPOT PAPER NAPKINS)</td>\n      <td>(SET/6 RED SPOTTY PAPER CUPS, SET/6 RED SPOTTY...</td>\n      <td>0.112798</td>\n      <td>0.104121</td>\n      <td>0.084599</td>\n      <td>0.750000</td>\n      <td>7.203125</td>\n      <td>0.072854</td>\n      <td>3.583514</td>\n    </tr>\n  </tbody>\n</table>\n</div>"
     },
     "metadata": {},
     "execution_count": 30
    }
   ],
   "source": [
    "rules[ (rules['lift'] >= mylift) &\n",
    "       (rules['confidence'] >= myconfidence) ]"
   ]
  },
  {
   "cell_type": "markdown",
   "metadata": {},
   "source": [
    "## 5. Exportation of rules"
   ]
  },
  {
   "cell_type": "code",
   "execution_count": null,
   "metadata": {},
   "outputs": [],
   "source": [
    "dfrules=rules[ (rules['lift'] >= mylift) &\n",
    "       (rules['confidence'] >= myconfidence) ]\n",
    "\n",
    "dfrules.to_csv(r'myassociationrules.csv')"
   ]
  },
  {
   "cell_type": "code",
   "execution_count": null,
   "metadata": {},
   "outputs": [],
   "source": [
    "%ls myassociationrules.csv -l"
   ]
  },
  {
   "cell_type": "markdown",
   "metadata": {},
   "source": [
    "> The rules are saved into a local CSV file."
   ]
  },
  {
   "cell_type": "code",
   "execution_count": null,
   "metadata": {},
   "outputs": [],
   "source": [
    " run.complete()"
   ]
  },
  {
   "cell_type": "markdown",
   "metadata": {},
   "source": [
    "> End of notebook"
   ]
  },
  {
   "cell_type": "code",
   "execution_count": null,
   "metadata": {},
   "outputs": [],
   "source": []
  }
 ],
 "metadata": {
  "kernelspec": {
   "name": "python3-azureml",
   "display_name": "Python 3.6 - AzureML",
   "language": "python"
  },
  "language_info": {
   "codemirror_mode": {
    "name": "ipython",
    "version": 3
   },
   "file_extension": ".py",
   "mimetype": "text/x-python",
   "name": "python",
   "nbconvert_exporter": "python",
   "pygments_lexer": "ipython3",
   "version": "3.8.3-final"
  }
 },
 "nbformat": 4,
 "nbformat_minor": 2
}