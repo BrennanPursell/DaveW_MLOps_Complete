{
 "cells": [
  {
   "cell_type": "markdown",
   "metadata": {},
   "source": [
    "# RFM Analytics\n",
    "\n",
    "RFM Analysis is a marketing technique used to quantitatively determine which customers are the best ones by examining their shopping behaviour:\n",
    "* how recently a customer has purchased (recency)\n",
    "  * Recency is the most important predictor of who is more likely to show loyalty towards your brand. Customers who have purchased recently from you are more likely to purchase again from you compared to those who did not purchase recently.\n",
    "* how often they purchase (frequency) \n",
    "  * The second most important factor is how frequently these customers purchase from you. The higher the frequency, the higher is the chances of such customers making a repeat purchase.\n",
    "* and how much the customer spends (monetary). \n",
    "\n",
    "RFM analysis is based on an extension of Pareto’s principle which says that “80% of your business comes from 20% of your customers.“\n",
    "\n",
    "Customers who have purchased more recently, more frequently, and have spent more money, are likelier to buy again. But those who haven’t, are less valuable for the company and therefore, likely to churn. \n",
    "\n",
    "<img src=\"http://www.wiseguysmarketing.com/wp-content/uploads/2016/03/RFM.png\">"
   ]
  },
  {
   "cell_type": "code",
   "execution_count": 1,
   "metadata": {},
   "outputs": [
    {
     "output_type": "execute_result",
     "data": {
      "text/plain": [
       "'3.6.9 |Anaconda, Inc.| (default, Jul 30 2019, 19:07:31) \\n[GCC 7.3.0]'"
      ]
     },
     "metadata": {},
     "execution_count": 1
    }
   ],
   "source": [
    "import sys\n",
    "sys.version"
   ]
  },
  {
   "cell_type": "code",
   "execution_count": 2,
   "metadata": {},
   "outputs": [
    {
     "output_type": "stream",
     "name": "stdout",
     "text": [
      "2021-03-03 17:22:17.876501\n"
     ]
    }
   ],
   "source": [
    "import datetime\n",
    "now = datetime.datetime.now()\n",
    "print(now)"
   ]
  },
  {
   "cell_type": "code",
   "execution_count": 3,
   "metadata": {},
   "outputs": [],
   "source": [
    "import pandas as pd"
   ]
  },
  {
   "cell_type": "markdown",
   "metadata": {},
   "source": [
    "## 1. Load transaction file"
   ]
  },
  {
   "cell_type": "code",
   "execution_count": null,
   "metadata": {},
   "outputs": [],
   "source": [
    "sales = pd.read_csv(\"https://git.davewentzel.com/demos/MLOps-E2E/-/raw/master/Lab900/transactions.csv\", delimiter=',')\n",
    "sales.head(10)"
   ]
  },
  {
   "cell_type": "code",
   "execution_count": 5,
   "metadata": {},
   "outputs": [
    {
     "output_type": "execute_result",
     "data": {
      "text/plain": [
       "           customer  purchase_quantity  product_line   product_code  \\\n",
       "count  4.411000e+03        4411.000000   4411.000000    4411.000000   \n",
       "mean   3.247793e+06       12307.737928      2.300159   78992.072319   \n",
       "std    1.264739e+06        8547.264548      2.048316   35480.470064   \n",
       "min    1.269930e+05         430.000000      1.000000       4.000000   \n",
       "25%    2.310253e+06        3773.500000      1.000000   52874.000000   \n",
       "50%    2.767146e+06       11765.000000      2.000000   90303.000000   \n",
       "75%    3.847057e+06       16488.500000      3.000000  106375.500000   \n",
       "max    7.490767e+06       27955.000000     28.000000  140136.000000   \n",
       "\n",
       "          quantity  price_before_discount  price_after_discount         Hour  \\\n",
       "count  4411.000000            4411.000000           4411.000000  4411.000000   \n",
       "mean      1.012469              35.309243             32.489602  1454.219225   \n",
       "std       0.238245              29.400703             27.893240   267.312613   \n",
       "min       1.000000               0.000000             -4.707000   904.000000   \n",
       "25%       1.000000              11.867000             10.533000  1237.000000   \n",
       "50%       1.000000              26.960000             25.200000  1452.000000   \n",
       "75%       1.000000              51.733000             48.200000  1657.000000   \n",
       "max      11.000000             314.667000            305.120000  2017.000000   \n",
       "\n",
       "         store_code  vendor_code       amount  \n",
       "count   4411.000000  4411.000000  4411.000000  \n",
       "mean   10000.150306    17.462934    35.455786  \n",
       "std        0.432612    11.183510    29.874411  \n",
       "min    10000.000000     1.000000     0.000000  \n",
       "25%    10000.000000     8.000000    11.867000  \n",
       "50%    10000.000000    22.000000    27.067000  \n",
       "75%    10000.000000    27.000000    51.867000  \n",
       "max    10002.000000    90.000000   336.000000  "
      ],
      "text/html": "<div>\n<style scoped>\n    .dataframe tbody tr th:only-of-type {\n        vertical-align: middle;\n    }\n\n    .dataframe tbody tr th {\n        vertical-align: top;\n    }\n\n    .dataframe thead th {\n        text-align: right;\n    }\n</style>\n<table border=\"1\" class=\"dataframe\">\n  <thead>\n    <tr style=\"text-align: right;\">\n      <th></th>\n      <th>customer</th>\n      <th>purchase_quantity</th>\n      <th>product_line</th>\n      <th>product_code</th>\n      <th>quantity</th>\n      <th>price_before_discount</th>\n      <th>price_after_discount</th>\n      <th>Hour</th>\n      <th>store_code</th>\n      <th>vendor_code</th>\n      <th>amount</th>\n    </tr>\n  </thead>\n  <tbody>\n    <tr>\n      <th>count</th>\n      <td>4.411000e+03</td>\n      <td>4411.000000</td>\n      <td>4411.000000</td>\n      <td>4411.000000</td>\n      <td>4411.000000</td>\n      <td>4411.000000</td>\n      <td>4411.000000</td>\n      <td>4411.000000</td>\n      <td>4411.000000</td>\n      <td>4411.000000</td>\n      <td>4411.000000</td>\n    </tr>\n    <tr>\n      <th>mean</th>\n      <td>3.247793e+06</td>\n      <td>12307.737928</td>\n      <td>2.300159</td>\n      <td>78992.072319</td>\n      <td>1.012469</td>\n      <td>35.309243</td>\n      <td>32.489602</td>\n      <td>1454.219225</td>\n      <td>10000.150306</td>\n      <td>17.462934</td>\n      <td>35.455786</td>\n    </tr>\n    <tr>\n      <th>std</th>\n      <td>1.264739e+06</td>\n      <td>8547.264548</td>\n      <td>2.048316</td>\n      <td>35480.470064</td>\n      <td>0.238245</td>\n      <td>29.400703</td>\n      <td>27.893240</td>\n      <td>267.312613</td>\n      <td>0.432612</td>\n      <td>11.183510</td>\n      <td>29.874411</td>\n    </tr>\n    <tr>\n      <th>min</th>\n      <td>1.269930e+05</td>\n      <td>430.000000</td>\n      <td>1.000000</td>\n      <td>4.000000</td>\n      <td>1.000000</td>\n      <td>0.000000</td>\n      <td>-4.707000</td>\n      <td>904.000000</td>\n      <td>10000.000000</td>\n      <td>1.000000</td>\n      <td>0.000000</td>\n    </tr>\n    <tr>\n      <th>25%</th>\n      <td>2.310253e+06</td>\n      <td>3773.500000</td>\n      <td>1.000000</td>\n      <td>52874.000000</td>\n      <td>1.000000</td>\n      <td>11.867000</td>\n      <td>10.533000</td>\n      <td>1237.000000</td>\n      <td>10000.000000</td>\n      <td>8.000000</td>\n      <td>11.867000</td>\n    </tr>\n    <tr>\n      <th>50%</th>\n      <td>2.767146e+06</td>\n      <td>11765.000000</td>\n      <td>2.000000</td>\n      <td>90303.000000</td>\n      <td>1.000000</td>\n      <td>26.960000</td>\n      <td>25.200000</td>\n      <td>1452.000000</td>\n      <td>10000.000000</td>\n      <td>22.000000</td>\n      <td>27.067000</td>\n    </tr>\n    <tr>\n      <th>75%</th>\n      <td>3.847057e+06</td>\n      <td>16488.500000</td>\n      <td>3.000000</td>\n      <td>106375.500000</td>\n      <td>1.000000</td>\n      <td>51.733000</td>\n      <td>48.200000</td>\n      <td>1657.000000</td>\n      <td>10000.000000</td>\n      <td>27.000000</td>\n      <td>51.867000</td>\n    </tr>\n    <tr>\n      <th>max</th>\n      <td>7.490767e+06</td>\n      <td>27955.000000</td>\n      <td>28.000000</td>\n      <td>140136.000000</td>\n      <td>11.000000</td>\n      <td>314.667000</td>\n      <td>305.120000</td>\n      <td>2017.000000</td>\n      <td>10002.000000</td>\n      <td>90.000000</td>\n      <td>336.000000</td>\n    </tr>\n  </tbody>\n</table>\n</div>"
     },
     "metadata": {},
     "execution_count": 5
    }
   ],
   "source": [
    "sales.describe()"
   ]
  },
  {
   "cell_type": "code",
   "execution_count": 8,
   "metadata": {},
   "outputs": [
    {
     "output_type": "stream",
     "name": "stdout",
     "text": [
      "For this experiment, the current time is now:  2019-01-22 00:00:00\n"
     ]
    }
   ],
   "source": [
    "## since this is an older dataset and recency is important, let's set the current time back a little bit\n",
    "import datetime as dt\n",
    "NOW = dt.datetime(2019,1,22)\n",
    "print(\"For this experiment, the current time is now: \",NOW)"
   ]
  },
  {
   "cell_type": "code",
   "execution_count": 10,
   "metadata": {},
   "outputs": [
    {
     "output_type": "execute_result",
     "data": {
      "text/plain": [
       "   customer purchase_date  purchase_quantity  product_line  product_code  \\\n",
       "0    495501    2017-01-01              12026             2         25441   \n",
       "1    495501    2017-01-01              12026             1         23768   \n",
       "2   1797430    2017-01-01              12001             3         82509   \n",
       "3   2248471    2017-01-01              12060             2          1856   \n",
       "4   2248499    2017-01-01              12004             1         36367   \n",
       "5   2248528    2017-01-01              12024             1         87914   \n",
       "6   2248820    2017-01-01              12057             5         72607   \n",
       "7   2248820    2017-01-01              12057             4         90140   \n",
       "8   2255804    2017-01-01              12067             1         89462   \n",
       "9   2267053    2017-01-01              12053             1         79081   \n",
       "\n",
       "   quantity  price_before_discount  price_after_discount  Hour  store_code  \\\n",
       "0         1                 41.333                41.333  1639       10000   \n",
       "1         1                 32.400                32.400  1639       10001   \n",
       "2         1                  0.667                 0.000  1607       10002   \n",
       "3         1                 12.000                11.400  1830       10002   \n",
       "4         1                 47.587                47.587  1610       10002   \n",
       "5         1                 11.600                11.600  1632       10001   \n",
       "6         1                 10.533                10.533  1820       10000   \n",
       "7         1                  6.933                 6.933  1820       10000   \n",
       "8         1                 26.587                26.587  1906       10001   \n",
       "9         1                100.800               100.800  1808       10000   \n",
       "\n",
       "   vendor_code   amount  \n",
       "0           28   41.333  \n",
       "1           28   32.400  \n",
       "2           20    0.667  \n",
       "3           31   12.000  \n",
       "4           23   47.587  \n",
       "5            4   11.600  \n",
       "6           26   10.533  \n",
       "7           26    6.933  \n",
       "8           26   26.587  \n",
       "9           31  100.800  "
      ],
      "text/html": "<div>\n<style scoped>\n    .dataframe tbody tr th:only-of-type {\n        vertical-align: middle;\n    }\n\n    .dataframe tbody tr th {\n        vertical-align: top;\n    }\n\n    .dataframe thead th {\n        text-align: right;\n    }\n</style>\n<table border=\"1\" class=\"dataframe\">\n  <thead>\n    <tr style=\"text-align: right;\">\n      <th></th>\n      <th>customer</th>\n      <th>purchase_date</th>\n      <th>purchase_quantity</th>\n      <th>product_line</th>\n      <th>product_code</th>\n      <th>quantity</th>\n      <th>price_before_discount</th>\n      <th>price_after_discount</th>\n      <th>Hour</th>\n      <th>store_code</th>\n      <th>vendor_code</th>\n      <th>amount</th>\n    </tr>\n  </thead>\n  <tbody>\n    <tr>\n      <th>0</th>\n      <td>495501</td>\n      <td>2017-01-01</td>\n      <td>12026</td>\n      <td>2</td>\n      <td>25441</td>\n      <td>1</td>\n      <td>41.333</td>\n      <td>41.333</td>\n      <td>1639</td>\n      <td>10000</td>\n      <td>28</td>\n      <td>41.333</td>\n    </tr>\n    <tr>\n      <th>1</th>\n      <td>495501</td>\n      <td>2017-01-01</td>\n      <td>12026</td>\n      <td>1</td>\n      <td>23768</td>\n      <td>1</td>\n      <td>32.400</td>\n      <td>32.400</td>\n      <td>1639</td>\n      <td>10001</td>\n      <td>28</td>\n      <td>32.400</td>\n    </tr>\n    <tr>\n      <th>2</th>\n      <td>1797430</td>\n      <td>2017-01-01</td>\n      <td>12001</td>\n      <td>3</td>\n      <td>82509</td>\n      <td>1</td>\n      <td>0.667</td>\n      <td>0.000</td>\n      <td>1607</td>\n      <td>10002</td>\n      <td>20</td>\n      <td>0.667</td>\n    </tr>\n    <tr>\n      <th>3</th>\n      <td>2248471</td>\n      <td>2017-01-01</td>\n      <td>12060</td>\n      <td>2</td>\n      <td>1856</td>\n      <td>1</td>\n      <td>12.000</td>\n      <td>11.400</td>\n      <td>1830</td>\n      <td>10002</td>\n      <td>31</td>\n      <td>12.000</td>\n    </tr>\n    <tr>\n      <th>4</th>\n      <td>2248499</td>\n      <td>2017-01-01</td>\n      <td>12004</td>\n      <td>1</td>\n      <td>36367</td>\n      <td>1</td>\n      <td>47.587</td>\n      <td>47.587</td>\n      <td>1610</td>\n      <td>10002</td>\n      <td>23</td>\n      <td>47.587</td>\n    </tr>\n    <tr>\n      <th>5</th>\n      <td>2248528</td>\n      <td>2017-01-01</td>\n      <td>12024</td>\n      <td>1</td>\n      <td>87914</td>\n      <td>1</td>\n      <td>11.600</td>\n      <td>11.600</td>\n      <td>1632</td>\n      <td>10001</td>\n      <td>4</td>\n      <td>11.600</td>\n    </tr>\n    <tr>\n      <th>6</th>\n      <td>2248820</td>\n      <td>2017-01-01</td>\n      <td>12057</td>\n      <td>5</td>\n      <td>72607</td>\n      <td>1</td>\n      <td>10.533</td>\n      <td>10.533</td>\n      <td>1820</td>\n      <td>10000</td>\n      <td>26</td>\n      <td>10.533</td>\n    </tr>\n    <tr>\n      <th>7</th>\n      <td>2248820</td>\n      <td>2017-01-01</td>\n      <td>12057</td>\n      <td>4</td>\n      <td>90140</td>\n      <td>1</td>\n      <td>6.933</td>\n      <td>6.933</td>\n      <td>1820</td>\n      <td>10000</td>\n      <td>26</td>\n      <td>6.933</td>\n    </tr>\n    <tr>\n      <th>8</th>\n      <td>2255804</td>\n      <td>2017-01-01</td>\n      <td>12067</td>\n      <td>1</td>\n      <td>89462</td>\n      <td>1</td>\n      <td>26.587</td>\n      <td>26.587</td>\n      <td>1906</td>\n      <td>10001</td>\n      <td>26</td>\n      <td>26.587</td>\n    </tr>\n    <tr>\n      <th>9</th>\n      <td>2267053</td>\n      <td>2017-01-01</td>\n      <td>12053</td>\n      <td>1</td>\n      <td>79081</td>\n      <td>1</td>\n      <td>100.800</td>\n      <td>100.800</td>\n      <td>1808</td>\n      <td>10000</td>\n      <td>31</td>\n      <td>100.800</td>\n    </tr>\n  </tbody>\n</table>\n</div>"
     },
     "metadata": {},
     "execution_count": 10
    }
   ],
   "source": [
    "sales['purchase_date'] = pd.to_datetime(sales['purchase_date'])\n",
    "sales.head(10)"
   ]
  },
  {
   "cell_type": "code",
   "execution_count": 14,
   "metadata": {},
   "outputs": [
    {
     "output_type": "execute_result",
     "data": {
      "text/plain": [
       "          purchase_date  quantity   amount\n",
       "customer                                  \n",
       "126993              174         1   26.000\n",
       "214674              143         3  116.800\n",
       "318696              113         2   73.734\n",
       "438711              327         3  102.134\n",
       "495501              438         3  108.933\n",
       "918238              600         1   80.667\n",
       "1090522             292         1   31.467\n",
       "1315018             355         1   20.000\n",
       "1419361             265         1   39.333\n",
       "1419459             438         2   92.667"
      ],
      "text/html": "<div>\n<style scoped>\n    .dataframe tbody tr th:only-of-type {\n        vertical-align: middle;\n    }\n\n    .dataframe tbody tr th {\n        vertical-align: top;\n    }\n\n    .dataframe thead th {\n        text-align: right;\n    }\n</style>\n<table border=\"1\" class=\"dataframe\">\n  <thead>\n    <tr style=\"text-align: right;\">\n      <th></th>\n      <th>purchase_date</th>\n      <th>quantity</th>\n      <th>amount</th>\n    </tr>\n    <tr>\n      <th>customer</th>\n      <th></th>\n      <th></th>\n      <th></th>\n    </tr>\n  </thead>\n  <tbody>\n    <tr>\n      <th>126993</th>\n      <td>174</td>\n      <td>1</td>\n      <td>26.000</td>\n    </tr>\n    <tr>\n      <th>214674</th>\n      <td>143</td>\n      <td>3</td>\n      <td>116.800</td>\n    </tr>\n    <tr>\n      <th>318696</th>\n      <td>113</td>\n      <td>2</td>\n      <td>73.734</td>\n    </tr>\n    <tr>\n      <th>438711</th>\n      <td>327</td>\n      <td>3</td>\n      <td>102.134</td>\n    </tr>\n    <tr>\n      <th>495501</th>\n      <td>438</td>\n      <td>3</td>\n      <td>108.933</td>\n    </tr>\n    <tr>\n      <th>918238</th>\n      <td>600</td>\n      <td>1</td>\n      <td>80.667</td>\n    </tr>\n    <tr>\n      <th>1090522</th>\n      <td>292</td>\n      <td>1</td>\n      <td>31.467</td>\n    </tr>\n    <tr>\n      <th>1315018</th>\n      <td>355</td>\n      <td>1</td>\n      <td>20.000</td>\n    </tr>\n    <tr>\n      <th>1419361</th>\n      <td>265</td>\n      <td>1</td>\n      <td>39.333</td>\n    </tr>\n    <tr>\n      <th>1419459</th>\n      <td>438</td>\n      <td>2</td>\n      <td>92.667</td>\n    </tr>\n  </tbody>\n</table>\n</div>"
     },
     "metadata": {},
     "execution_count": 14
    }
   ],
   "source": [
    "dfRFM = (sales\n",
    "    .groupby('customer')\n",
    "    .agg({'purchase_date': lambda x: (NOW - x.max()).days, # Recency\n",
    "                                        'quantity': lambda x: len(x),      # Frequency\n",
    "                                        'amount': lambda x: x.sum()}) # Monetary Value\n",
    ")\n",
    "dfRFM.head(10)"
   ]
  },
  {
   "cell_type": "code",
   "execution_count": 15,
   "metadata": {},
   "outputs": [
    {
     "output_type": "execute_result",
     "data": {
      "text/plain": [
       "          recency  frequency  monetary\n",
       "customer                              \n",
       "126993        174          1    26.000\n",
       "214674        143          3   116.800\n",
       "318696        113          2    73.734\n",
       "438711        327          3   102.134\n",
       "495501        438          3   108.933\n",
       "918238        600          1    80.667\n",
       "1090522       292          1    31.467\n",
       "1315018       355          1    20.000\n",
       "1419361       265          1    39.333\n",
       "1419459       438          2    92.667"
      ],
      "text/html": "<div>\n<style scoped>\n    .dataframe tbody tr th:only-of-type {\n        vertical-align: middle;\n    }\n\n    .dataframe tbody tr th {\n        vertical-align: top;\n    }\n\n    .dataframe thead th {\n        text-align: right;\n    }\n</style>\n<table border=\"1\" class=\"dataframe\">\n  <thead>\n    <tr style=\"text-align: right;\">\n      <th></th>\n      <th>recency</th>\n      <th>frequency</th>\n      <th>monetary</th>\n    </tr>\n    <tr>\n      <th>customer</th>\n      <th></th>\n      <th></th>\n      <th></th>\n    </tr>\n  </thead>\n  <tbody>\n    <tr>\n      <th>126993</th>\n      <td>174</td>\n      <td>1</td>\n      <td>26.000</td>\n    </tr>\n    <tr>\n      <th>214674</th>\n      <td>143</td>\n      <td>3</td>\n      <td>116.800</td>\n    </tr>\n    <tr>\n      <th>318696</th>\n      <td>113</td>\n      <td>2</td>\n      <td>73.734</td>\n    </tr>\n    <tr>\n      <th>438711</th>\n      <td>327</td>\n      <td>3</td>\n      <td>102.134</td>\n    </tr>\n    <tr>\n      <th>495501</th>\n      <td>438</td>\n      <td>3</td>\n      <td>108.933</td>\n    </tr>\n    <tr>\n      <th>918238</th>\n      <td>600</td>\n      <td>1</td>\n      <td>80.667</td>\n    </tr>\n    <tr>\n      <th>1090522</th>\n      <td>292</td>\n      <td>1</td>\n      <td>31.467</td>\n    </tr>\n    <tr>\n      <th>1315018</th>\n      <td>355</td>\n      <td>1</td>\n      <td>20.000</td>\n    </tr>\n    <tr>\n      <th>1419361</th>\n      <td>265</td>\n      <td>1</td>\n      <td>39.333</td>\n    </tr>\n    <tr>\n      <th>1419459</th>\n      <td>438</td>\n      <td>2</td>\n      <td>92.667</td>\n    </tr>\n  </tbody>\n</table>\n</div>"
     },
     "metadata": {},
     "execution_count": 15
    }
   ],
   "source": [
    "dfRFM['purchase_date'] = dfRFM['purchase_date'].astype(int)\n",
    "dfRFM.rename(columns={'purchase_date': 'recency', \n",
    "                         'quantity': 'frequency', \n",
    "                         'amount': 'monetary'}, inplace=True)\n",
    "dfRFM.head(10)"
   ]
  },
  {
   "cell_type": "markdown",
   "metadata": {},
   "source": [
    "## 2. Analyse RFM\n",
    "Do some basic exploration"
   ]
  },
  {
   "cell_type": "code",
   "execution_count": 17,
   "metadata": {},
   "outputs": [
    {
     "output_type": "execute_result",
     "data": {
      "text/plain": [
       "      customer purchase_date  purchase_quantity  product_line  product_code  \\\n",
       "2388    438711    2018-03-01               4596             2        118557   \n",
       "2389    438711    2018-03-01               4596             1         78270   \n",
       "2390    438711    2018-03-01               4602             1         21887   \n",
       "\n",
       "      quantity  price_before_discount  price_after_discount  Hour  store_code  \\\n",
       "2388         1                 44.800                44.800  1337       10000   \n",
       "2389         1                 30.267                30.267  1337       10000   \n",
       "2390         1                 27.067                13.733  1346       10000   \n",
       "\n",
       "      vendor_code  amount  \n",
       "2388            2  44.800  \n",
       "2389            2  30.267  \n",
       "2390            2  27.067  "
      ],
      "text/html": "<div>\n<style scoped>\n    .dataframe tbody tr th:only-of-type {\n        vertical-align: middle;\n    }\n\n    .dataframe tbody tr th {\n        vertical-align: top;\n    }\n\n    .dataframe thead th {\n        text-align: right;\n    }\n</style>\n<table border=\"1\" class=\"dataframe\">\n  <thead>\n    <tr style=\"text-align: right;\">\n      <th></th>\n      <th>customer</th>\n      <th>purchase_date</th>\n      <th>purchase_quantity</th>\n      <th>product_line</th>\n      <th>product_code</th>\n      <th>quantity</th>\n      <th>price_before_discount</th>\n      <th>price_after_discount</th>\n      <th>Hour</th>\n      <th>store_code</th>\n      <th>vendor_code</th>\n      <th>amount</th>\n    </tr>\n  </thead>\n  <tbody>\n    <tr>\n      <th>2388</th>\n      <td>438711</td>\n      <td>2018-03-01</td>\n      <td>4596</td>\n      <td>2</td>\n      <td>118557</td>\n      <td>1</td>\n      <td>44.800</td>\n      <td>44.800</td>\n      <td>1337</td>\n      <td>10000</td>\n      <td>2</td>\n      <td>44.800</td>\n    </tr>\n    <tr>\n      <th>2389</th>\n      <td>438711</td>\n      <td>2018-03-01</td>\n      <td>4596</td>\n      <td>1</td>\n      <td>78270</td>\n      <td>1</td>\n      <td>30.267</td>\n      <td>30.267</td>\n      <td>1337</td>\n      <td>10000</td>\n      <td>2</td>\n      <td>30.267</td>\n    </tr>\n    <tr>\n      <th>2390</th>\n      <td>438711</td>\n      <td>2018-03-01</td>\n      <td>4602</td>\n      <td>1</td>\n      <td>21887</td>\n      <td>1</td>\n      <td>27.067</td>\n      <td>13.733</td>\n      <td>1346</td>\n      <td>10000</td>\n      <td>2</td>\n      <td>27.067</td>\n    </tr>\n  </tbody>\n</table>\n</div>"
     },
     "metadata": {},
     "execution_count": 17
    }
   ],
   "source": [
    "customer = sales[sales['customer']==438711]\n",
    "customer"
   ]
  },
  {
   "cell_type": "code",
   "execution_count": 24,
   "metadata": {},
   "outputs": [],
   "source": [
    "quantiles = dfRFM.quantile(q=[0.25,0.5,0.75])"
   ]
  },
  {
   "cell_type": "code",
   "execution_count": 25,
   "metadata": {},
   "outputs": [
    {
     "output_type": "execute_result",
     "data": {
      "text/plain": [
       "      recency  frequency  monetary\n",
       "0.25    265.0        1.0   27.8265\n",
       "0.50    355.0        1.0   53.0670\n",
       "0.75    438.0        2.0   87.7000"
      ],
      "text/html": "<div>\n<style scoped>\n    .dataframe tbody tr th:only-of-type {\n        vertical-align: middle;\n    }\n\n    .dataframe tbody tr th {\n        vertical-align: top;\n    }\n\n    .dataframe thead th {\n        text-align: right;\n    }\n</style>\n<table border=\"1\" class=\"dataframe\">\n  <thead>\n    <tr style=\"text-align: right;\">\n      <th></th>\n      <th>recency</th>\n      <th>frequency</th>\n      <th>monetary</th>\n    </tr>\n  </thead>\n  <tbody>\n    <tr>\n      <th>0.25</th>\n      <td>265.0</td>\n      <td>1.0</td>\n      <td>27.8265</td>\n    </tr>\n    <tr>\n      <th>0.50</th>\n      <td>355.0</td>\n      <td>1.0</td>\n      <td>53.0670</td>\n    </tr>\n    <tr>\n      <th>0.75</th>\n      <td>438.0</td>\n      <td>2.0</td>\n      <td>87.7000</td>\n    </tr>\n  </tbody>\n</table>\n</div>"
     },
     "metadata": {},
     "execution_count": 25
    }
   ],
   "source": [
    "quantiles"
   ]
  },
  {
   "cell_type": "code",
   "execution_count": 26,
   "metadata": {},
   "outputs": [],
   "source": [
    "dictquantiles = quantiles.to_dict()"
   ]
  },
  {
   "cell_type": "code",
   "execution_count": 27,
   "metadata": {},
   "outputs": [
    {
     "output_type": "execute_result",
     "data": {
      "text/plain": [
       "{'recency': {0.25: 265.0, 0.5: 355.0, 0.75: 438.0},\n",
       " 'frequency': {0.25: 1.0, 0.5: 1.0, 0.75: 2.0},\n",
       " 'monetary': {0.25: 27.826500000000003,\n",
       "  0.5: 53.06699999999999,\n",
       "  0.75: 87.69999999999999}}"
      ]
     },
     "metadata": {},
     "execution_count": 27
    }
   ],
   "source": [
    "dictquantiles"
   ]
  },
  {
   "cell_type": "code",
   "execution_count": 28,
   "metadata": {},
   "outputs": [],
   "source": [
    "SegmentationRFM = dfRFM"
   ]
  },
  {
   "cell_type": "code",
   "execution_count": 29,
   "metadata": {},
   "outputs": [],
   "source": [
    "# Arguments (x = value, p = recency, monetary_value, frequency, k = quartiles dict)\n",
    "def RClass(x,p,d):\n",
    "    if x <= d[p][0.25]:\n",
    "        return 1\n",
    "    elif x <= d[p][0.50]:\n",
    "        return 2\n",
    "    elif x <= d[p][0.75]: \n",
    "        return 3\n",
    "    else:\n",
    "        return 4\n",
    "    \n",
    "# Arguments (x = value, p = recency, monetary_value, frequency, k = quartiles dict)\n",
    "def FMClass(x,p,d):\n",
    "    if x <= d[p][0.25]:\n",
    "        return 4\n",
    "    elif x <= d[p][0.50]:\n",
    "        return 3\n",
    "    elif x <= d[p][0.75]: \n",
    "        return 2\n",
    "    else:\n",
    "        return 1"
   ]
  },
  {
   "cell_type": "code",
   "execution_count": 30,
   "metadata": {},
   "outputs": [],
   "source": [
    "SegmentationRFM['R_Quartile'] = SegmentationRFM['recency'].apply(RClass, args=('recency',quantiles,))\n",
    "SegmentationRFM['F_Quartile'] = SegmentationRFM['frequency'].apply(FMClass, args=('frequency',quantiles,))\n",
    "SegmentationRFM['M_Quartile'] = SegmentationRFM['monetary'].apply(FMClass, args=('monetary',quantiles,))"
   ]
  },
  {
   "cell_type": "code",
   "execution_count": 31,
   "metadata": {},
   "outputs": [],
   "source": [
    "SegmentationRFM['RFMClass'] = SegmentationRFM.R_Quartile.map(str) \\\n",
    "                            + SegmentationRFM.F_Quartile.map(str) \\\n",
    "                            + SegmentationRFM.M_Quartile.map(str)"
   ]
  },
  {
   "cell_type": "code",
   "execution_count": 32,
   "metadata": {},
   "outputs": [
    {
     "output_type": "execute_result",
     "data": {
      "text/plain": [
       "          recency  frequency  monetary  R_Quartile  F_Quartile  M_Quartile  \\\n",
       "customer                                                                     \n",
       "126993        174          1    26.000           1           4           4   \n",
       "214674        143          3   116.800           1           1           1   \n",
       "318696        113          2    73.734           1           2           2   \n",
       "438711        327          3   102.134           2           1           1   \n",
       "495501        438          3   108.933           3           1           1   \n",
       "918238        600          1    80.667           4           4           2   \n",
       "1090522       292          1    31.467           2           4           3   \n",
       "1315018       355          1    20.000           2           4           4   \n",
       "1419361       265          1    39.333           1           4           3   \n",
       "1419459       438          2    92.667           3           2           1   \n",
       "1470727       327          1    56.400           2           4           2   \n",
       "1470729       393          1     8.267           3           4           4   \n",
       "1470850       438          1    47.200           3           4           3   \n",
       "1470868       748          1     5.467           4           4           4   \n",
       "1484775       143          1    40.000           1           4           3   \n",
       "1484998       373          1    76.267           3           4           2   \n",
       "1542405       265          5   486.934           1           1           1   \n",
       "1560817       504          1    59.467           4           4           2   \n",
       "1568148       438          1    29.733           3           4           3   \n",
       "1609043       174          1    70.667           1           4           2   \n",
       "\n",
       "         RFMClass  \n",
       "customer           \n",
       "126993        144  \n",
       "214674        111  \n",
       "318696        122  \n",
       "438711        211  \n",
       "495501        311  \n",
       "918238        442  \n",
       "1090522       243  \n",
       "1315018       244  \n",
       "1419361       143  \n",
       "1419459       321  \n",
       "1470727       242  \n",
       "1470729       344  \n",
       "1470850       343  \n",
       "1470868       444  \n",
       "1484775       143  \n",
       "1484998       342  \n",
       "1542405       111  \n",
       "1560817       442  \n",
       "1568148       343  \n",
       "1609043       142  "
      ],
      "text/html": "<div>\n<style scoped>\n    .dataframe tbody tr th:only-of-type {\n        vertical-align: middle;\n    }\n\n    .dataframe tbody tr th {\n        vertical-align: top;\n    }\n\n    .dataframe thead th {\n        text-align: right;\n    }\n</style>\n<table border=\"1\" class=\"dataframe\">\n  <thead>\n    <tr style=\"text-align: right;\">\n      <th></th>\n      <th>recency</th>\n      <th>frequency</th>\n      <th>monetary</th>\n      <th>R_Quartile</th>\n      <th>F_Quartile</th>\n      <th>M_Quartile</th>\n      <th>RFMClass</th>\n    </tr>\n    <tr>\n      <th>customer</th>\n      <th></th>\n      <th></th>\n      <th></th>\n      <th></th>\n      <th></th>\n      <th></th>\n      <th></th>\n    </tr>\n  </thead>\n  <tbody>\n    <tr>\n      <th>126993</th>\n      <td>174</td>\n      <td>1</td>\n      <td>26.000</td>\n      <td>1</td>\n      <td>4</td>\n      <td>4</td>\n      <td>144</td>\n    </tr>\n    <tr>\n      <th>214674</th>\n      <td>143</td>\n      <td>3</td>\n      <td>116.800</td>\n      <td>1</td>\n      <td>1</td>\n      <td>1</td>\n      <td>111</td>\n    </tr>\n    <tr>\n      <th>318696</th>\n      <td>113</td>\n      <td>2</td>\n      <td>73.734</td>\n      <td>1</td>\n      <td>2</td>\n      <td>2</td>\n      <td>122</td>\n    </tr>\n    <tr>\n      <th>438711</th>\n      <td>327</td>\n      <td>3</td>\n      <td>102.134</td>\n      <td>2</td>\n      <td>1</td>\n      <td>1</td>\n      <td>211</td>\n    </tr>\n    <tr>\n      <th>495501</th>\n      <td>438</td>\n      <td>3</td>\n      <td>108.933</td>\n      <td>3</td>\n      <td>1</td>\n      <td>1</td>\n      <td>311</td>\n    </tr>\n    <tr>\n      <th>918238</th>\n      <td>600</td>\n      <td>1</td>\n      <td>80.667</td>\n      <td>4</td>\n      <td>4</td>\n      <td>2</td>\n      <td>442</td>\n    </tr>\n    <tr>\n      <th>1090522</th>\n      <td>292</td>\n      <td>1</td>\n      <td>31.467</td>\n      <td>2</td>\n      <td>4</td>\n      <td>3</td>\n      <td>243</td>\n    </tr>\n    <tr>\n      <th>1315018</th>\n      <td>355</td>\n      <td>1</td>\n      <td>20.000</td>\n      <td>2</td>\n      <td>4</td>\n      <td>4</td>\n      <td>244</td>\n    </tr>\n    <tr>\n      <th>1419361</th>\n      <td>265</td>\n      <td>1</td>\n      <td>39.333</td>\n      <td>1</td>\n      <td>4</td>\n      <td>3</td>\n      <td>143</td>\n    </tr>\n    <tr>\n      <th>1419459</th>\n      <td>438</td>\n      <td>2</td>\n      <td>92.667</td>\n      <td>3</td>\n      <td>2</td>\n      <td>1</td>\n      <td>321</td>\n    </tr>\n    <tr>\n      <th>1470727</th>\n      <td>327</td>\n      <td>1</td>\n      <td>56.400</td>\n      <td>2</td>\n      <td>4</td>\n      <td>2</td>\n      <td>242</td>\n    </tr>\n    <tr>\n      <th>1470729</th>\n      <td>393</td>\n      <td>1</td>\n      <td>8.267</td>\n      <td>3</td>\n      <td>4</td>\n      <td>4</td>\n      <td>344</td>\n    </tr>\n    <tr>\n      <th>1470850</th>\n      <td>438</td>\n      <td>1</td>\n      <td>47.200</td>\n      <td>3</td>\n      <td>4</td>\n      <td>3</td>\n      <td>343</td>\n    </tr>\n    <tr>\n      <th>1470868</th>\n      <td>748</td>\n      <td>1</td>\n      <td>5.467</td>\n      <td>4</td>\n      <td>4</td>\n      <td>4</td>\n      <td>444</td>\n    </tr>\n    <tr>\n      <th>1484775</th>\n      <td>143</td>\n      <td>1</td>\n      <td>40.000</td>\n      <td>1</td>\n      <td>4</td>\n      <td>3</td>\n      <td>143</td>\n    </tr>\n    <tr>\n      <th>1484998</th>\n      <td>373</td>\n      <td>1</td>\n      <td>76.267</td>\n      <td>3</td>\n      <td>4</td>\n      <td>2</td>\n      <td>342</td>\n    </tr>\n    <tr>\n      <th>1542405</th>\n      <td>265</td>\n      <td>5</td>\n      <td>486.934</td>\n      <td>1</td>\n      <td>1</td>\n      <td>1</td>\n      <td>111</td>\n    </tr>\n    <tr>\n      <th>1560817</th>\n      <td>504</td>\n      <td>1</td>\n      <td>59.467</td>\n      <td>4</td>\n      <td>4</td>\n      <td>2</td>\n      <td>442</td>\n    </tr>\n    <tr>\n      <th>1568148</th>\n      <td>438</td>\n      <td>1</td>\n      <td>29.733</td>\n      <td>3</td>\n      <td>4</td>\n      <td>3</td>\n      <td>343</td>\n    </tr>\n    <tr>\n      <th>1609043</th>\n      <td>174</td>\n      <td>1</td>\n      <td>70.667</td>\n      <td>1</td>\n      <td>4</td>\n      <td>2</td>\n      <td>142</td>\n    </tr>\n  </tbody>\n</table>\n</div>"
     },
     "metadata": {},
     "execution_count": 32
    }
   ],
   "source": [
    "SegmentationRFM.head(20)"
   ]
  },
  {
   "cell_type": "markdown",
   "metadata": {},
   "source": [
    "## Sorting by RFM Score descending"
   ]
  },
  {
   "cell_type": "code",
   "execution_count": 33,
   "metadata": {},
   "outputs": [
    {
     "output_type": "execute_result",
     "data": {
      "text/plain": [
       "          recency  frequency  monetary  R_Quartile  F_Quartile  M_Quartile  \\\n",
       "customer                                                                     \n",
       "2273695       748          1    22.133           4           4           4   \n",
       "2248528       751          1    11.600           4           4           4   \n",
       "4215108       748          1    13.333           4           4           4   \n",
       "2255804       751          1    26.587           4           4           4   \n",
       "4209466       692          1    26.000           4           4           4   \n",
       "...           ...        ...       ...         ...         ...         ...   \n",
       "5035631        38          4   130.254           1           1           1   \n",
       "5093099       265          3   108.400           1           1           1   \n",
       "2307972       143          7   284.401           1           1           1   \n",
       "2304731       113          3   106.666           1           1           1   \n",
       "3651346       113          3   258.534           1           1           1   \n",
       "\n",
       "         RFMClass  \n",
       "customer           \n",
       "2273695       444  \n",
       "2248528       444  \n",
       "4215108       444  \n",
       "2255804       444  \n",
       "4209466       444  \n",
       "...           ...  \n",
       "5035631       111  \n",
       "5093099       111  \n",
       "2307972       111  \n",
       "2304731       111  \n",
       "3651346       111  \n",
       "\n",
       "[2255 rows x 7 columns]"
      ],
      "text/html": "<div>\n<style scoped>\n    .dataframe tbody tr th:only-of-type {\n        vertical-align: middle;\n    }\n\n    .dataframe tbody tr th {\n        vertical-align: top;\n    }\n\n    .dataframe thead th {\n        text-align: right;\n    }\n</style>\n<table border=\"1\" class=\"dataframe\">\n  <thead>\n    <tr style=\"text-align: right;\">\n      <th></th>\n      <th>recency</th>\n      <th>frequency</th>\n      <th>monetary</th>\n      <th>R_Quartile</th>\n      <th>F_Quartile</th>\n      <th>M_Quartile</th>\n      <th>RFMClass</th>\n    </tr>\n    <tr>\n      <th>customer</th>\n      <th></th>\n      <th></th>\n      <th></th>\n      <th></th>\n      <th></th>\n      <th></th>\n      <th></th>\n    </tr>\n  </thead>\n  <tbody>\n    <tr>\n      <th>2273695</th>\n      <td>748</td>\n      <td>1</td>\n      <td>22.133</td>\n      <td>4</td>\n      <td>4</td>\n      <td>4</td>\n      <td>444</td>\n    </tr>\n    <tr>\n      <th>2248528</th>\n      <td>751</td>\n      <td>1</td>\n      <td>11.600</td>\n      <td>4</td>\n      <td>4</td>\n      <td>4</td>\n      <td>444</td>\n    </tr>\n    <tr>\n      <th>4215108</th>\n      <td>748</td>\n      <td>1</td>\n      <td>13.333</td>\n      <td>4</td>\n      <td>4</td>\n      <td>4</td>\n      <td>444</td>\n    </tr>\n    <tr>\n      <th>2255804</th>\n      <td>751</td>\n      <td>1</td>\n      <td>26.587</td>\n      <td>4</td>\n      <td>4</td>\n      <td>4</td>\n      <td>444</td>\n    </tr>\n    <tr>\n      <th>4209466</th>\n      <td>692</td>\n      <td>1</td>\n      <td>26.000</td>\n      <td>4</td>\n      <td>4</td>\n      <td>4</td>\n      <td>444</td>\n    </tr>\n    <tr>\n      <th>...</th>\n      <td>...</td>\n      <td>...</td>\n      <td>...</td>\n      <td>...</td>\n      <td>...</td>\n      <td>...</td>\n      <td>...</td>\n    </tr>\n    <tr>\n      <th>5035631</th>\n      <td>38</td>\n      <td>4</td>\n      <td>130.254</td>\n      <td>1</td>\n      <td>1</td>\n      <td>1</td>\n      <td>111</td>\n    </tr>\n    <tr>\n      <th>5093099</th>\n      <td>265</td>\n      <td>3</td>\n      <td>108.400</td>\n      <td>1</td>\n      <td>1</td>\n      <td>1</td>\n      <td>111</td>\n    </tr>\n    <tr>\n      <th>2307972</th>\n      <td>143</td>\n      <td>7</td>\n      <td>284.401</td>\n      <td>1</td>\n      <td>1</td>\n      <td>1</td>\n      <td>111</td>\n    </tr>\n    <tr>\n      <th>2304731</th>\n      <td>113</td>\n      <td>3</td>\n      <td>106.666</td>\n      <td>1</td>\n      <td>1</td>\n      <td>1</td>\n      <td>111</td>\n    </tr>\n    <tr>\n      <th>3651346</th>\n      <td>113</td>\n      <td>3</td>\n      <td>258.534</td>\n      <td>1</td>\n      <td>1</td>\n      <td>1</td>\n      <td>111</td>\n    </tr>\n  </tbody>\n</table>\n<p>2255 rows × 7 columns</p>\n</div>"
     },
     "metadata": {},
     "execution_count": 33
    }
   ],
   "source": [
    "SegmentationRFM.sort_values(by=['RFMClass'], ascending=[False])"
   ]
  }
 ],
 "metadata": {
  "kernelspec": {
   "display_name": "Python 3.6 - AzureML",
   "language": "python",
   "name": "python3-azureml"
  },
  "language_info": {
   "codemirror_mode": {
    "name": "ipython",
    "version": 3
   },
   "file_extension": ".py",
   "mimetype": "text/x-python",
   "name": "python",
   "nbconvert_exporter": "python",
   "pygments_lexer": "ipython3",
   "version": "3.8.3-final"
  }
 },
 "nbformat": 4,
 "nbformat_minor": 1
}